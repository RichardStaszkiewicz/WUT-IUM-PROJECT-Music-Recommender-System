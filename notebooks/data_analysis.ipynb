{
 "cells": [
  {
   "cell_type": "markdown",
   "source": [
    "# Table of contents\n",
    "1. [Convert files to json formats](#convert-files-to-json-formats)\n",
    "2. [Read data](#read-data)\n",
    "3. [Exploratory data analysis](#exploratory-data-analysis)\n",
    "        1. [Artists](#artists)\n",
    "        2. [Sessions](#sessions)\n",
    "        3. [User](#users)\n",
    "        4. [Tracks](#tracks)"
   ],
   "metadata": {
    "collapsed": false,
    "pycharm": {
     "name": "#%% md\n"
    }
   }
  },
  {
   "cell_type": "code",
   "execution_count": 1,
   "outputs": [],
   "source": [
    "import numpy as np\n",
    "import pandas as pd\n",
    "import json\n",
    "import os\n",
    "\n",
    "import matplotlib.pyplot as plt\n",
    "import seaborn as sns"
   ],
   "metadata": {
    "collapsed": false,
    "pycharm": {
     "name": "#%%\n"
    }
   }
  },
  {
   "cell_type": "code",
   "execution_count": 2,
   "outputs": [],
   "source": [
    "%matplotlib inline\n",
    "colors = sns.color_palette('pastel')\n",
    "sns.set_palette(colors)"
   ],
   "metadata": {
    "collapsed": false,
    "pycharm": {
     "name": "#%%\n"
    }
   }
  },
  {
   "cell_type": "code",
   "execution_count": 3,
   "outputs": [],
   "source": [
    "PROCESSED_DATA_DIR = \"../data/processed\""
   ],
   "metadata": {
    "collapsed": false,
    "pycharm": {
     "name": "#%%\n"
    }
   }
  },
  {
   "cell_type": "markdown",
   "source": [
    "### Convert files to json formats"
   ],
   "metadata": {
    "collapsed": false,
    "pycharm": {
     "name": "#%% md\n"
    }
   }
  },
  {
   "cell_type": "code",
   "execution_count": 6,
   "outputs": [],
   "source": [
    "def get_list_of_jsons(filepath, idx_start_from=0, num_lines=5000000):\n",
    "    idx_max = idx_start_from + num_lines\n",
    "    data = []\n",
    "    with open(filepath, \"r\") as f:\n",
    "        for i, row_data in enumerate(f):\n",
    "            if i < idx_start_from:\n",
    "                continue\n",
    "            if i >= idx_max:\n",
    "                break\n",
    "            data.append(json.loads(row_data))\n",
    "    return data, idx_max\n",
    "\n",
    "def save_json(list_of_jsons, file_name):\n",
    "    with open(file_name, \"w+\") as f:\n",
    "        json.dump(list_of_jsons, f)"
   ],
   "metadata": {
    "collapsed": false,
    "pycharm": {
     "name": "#%%\n"
    }
   }
  },
  {
   "cell_type": "code",
   "execution_count": 7,
   "outputs": [
    {
     "name": "stdout",
     "output_type": "stream",
     "text": [
      "Saved chunk 1 of ../data/v2\\tracks.jsonl\n",
      "Saved chunk 1 of ../data/v2\\track_storage.jsonl\n",
      "Saved chunk 1 of ../data/v2\\users.jsonl\n"
     ]
    }
   ],
   "source": [
    "for file_path in os.listdir(\"../data/v2\"):\n",
    "    file_path = os.path.join(\"../data/v2\", file_path)\n",
    "    idx_start_from = 0\n",
    "    chunk_num = 1\n",
    "    while True:\n",
    "        data, idx_start_from = get_list_of_jsons(file_path, idx_start_from=idx_start_from)\n",
    "        if not data:\n",
    "            break\n",
    "        new_file_path = f\"{file_path[:-5]}_{chunk_num}.json\"  # get filepath of json file from jsonl\n",
    "        save_json(data, new_file_path)\n",
    "        chunk_num += 1\n",
    "        print(f\"Saved chunk {chunk_num-1} of {file_path}\")"
   ],
   "metadata": {
    "collapsed": false,
    "pycharm": {
     "name": "#%%\n"
    }
   }
  },
  {
   "cell_type": "markdown",
   "source": [
    "# Read data"
   ],
   "metadata": {
    "collapsed": false,
    "pycharm": {
     "name": "#%% md\n"
    }
   }
  },
  {
   "cell_type": "code",
   "execution_count": 4,
   "outputs": [],
   "source": [
    "# artists = pd.read_json(\"../data/v2/artists.json\")\n",
    "sessions = pd.read_json(\"../data/v2/sessions_1.json\")\n",
    "# sessions2 = pd.read_json(\"../data/v2/sessions_1.json\")\n",
    "# sessions3 = pd.read_json(\"../data/v2/sessions_1.json\")\n",
    "#\n",
    "# sessions = pd.concat([sessions1, sessions2, sessions3], axis=0)\n",
    "# del sessions1\n",
    "# del sessions2\n",
    "# del sessions3\n",
    "# tracks = pd.read_json(\"../data/v2/tracks.json\")\n",
    "# track_storage = pd.read_json(\"../data/v2/track_storage.json\")\n",
    "# users = pd.read_json(\"../data/v2/users.json\")"
   ],
   "metadata": {
    "collapsed": false,
    "pycharm": {
     "name": "#%%\n"
    }
   }
  },
  {
   "cell_type": "markdown",
   "source": [
    "# Exploratory data analysis\n",
    "\n",
    "## Artists"
   ],
   "metadata": {
    "collapsed": false,
    "pycharm": {
     "name": "#%% md\n"
    }
   }
  },
  {
   "cell_type": "markdown",
   "source": [
    "### Search for NaNs or wrong values"
   ],
   "metadata": {
    "collapsed": false,
    "pycharm": {
     "name": "#%% md\n"
    }
   }
  },
  {
   "cell_type": "code",
   "execution_count": 5,
   "outputs": [
    {
     "data": {
      "text/plain": "22    1667\nName: id, dtype: int64"
     },
     "execution_count": 5,
     "metadata": {},
     "output_type": "execute_result"
    }
   ],
   "source": [
    "# convert ids to string and check their length\n",
    "artists.id.apply(lambda x: len(str(x))).value_counts()"
   ],
   "metadata": {
    "collapsed": false,
    "pycharm": {
     "name": "#%%\n"
    }
   }
  },
  {
   "cell_type": "code",
   "execution_count": 6,
   "outputs": [
    {
     "data": {
      "text/plain": "2QsynagSdAqZj3U9HgDzjD    1\n1Cs0zKBU1kc0i8ypK3B9ai    1\n4Rxn7Im3LGfyRkY2FlHhWi    1\n6yhD1KjhLxIETFF7vIRf8B    1\n0GM7qgcRCORpGnfcN2tCiB    1\nName: id, dtype: int64"
     },
     "execution_count": 6,
     "metadata": {},
     "output_type": "execute_result"
    }
   ],
   "source": [
    "artists.id.value_counts().head()"
   ],
   "metadata": {
    "collapsed": false,
    "pycharm": {
     "name": "#%%\n"
    }
   }
  },
  {
   "cell_type": "code",
   "execution_count": 7,
   "outputs": [],
   "source": [
    "# id of -1 suggest a wrong value\n",
    "artists.id.replace(-1, np.nan, inplace=True)"
   ],
   "metadata": {
    "collapsed": false,
    "pycharm": {
     "name": "#%%\n"
    }
   }
  },
  {
   "cell_type": "code",
   "execution_count": 8,
   "outputs": [
    {
     "data": {
      "text/plain": "<Figure size 432x288 with 1 Axes>",
      "image/png": "[encoded data removed]"
     },
     "metadata": {},
     "output_type": "display_data"
    }
   ],
   "source": [
    "n_records_nan = artists.isna().any(axis=1).sum()\n",
    "n_records_not_nan = len(artists)-n_records_nan\n",
    "plt.pie([n_records_nan, n_records_not_nan], labels=['has missing values', 'no missing values'], autopct='%.0f%%', startangle=50);\n",
    "plt.title(\"Portion of artists that have missing data\", fontsize=13);"
   ],
   "metadata": {
    "collapsed": false,
    "pycharm": {
     "name": "#%%\n"
    }
   }
  },
  {
   "cell_type": "code",
   "execution_count": 9,
   "outputs": [],
   "source": [
    "artists = artists[~artists.isna().any(axis=1)]"
   ],
   "metadata": {
    "collapsed": false,
    "pycharm": {
     "name": "#%%\n"
    }
   }
  },
  {
   "cell_type": "code",
   "execution_count": 10,
   "outputs": [
    {
     "data": {
      "text/plain": "                       id            name  \\\n0  7jVv8c5Fj3E9VhNjxT4snq       Lil Nas X   \n1  0xRXCcSX89eobfrshSVdyu          MEDUZA   \n2  3OKg7YbOIatODzkRIbLJR4       TheFatRat   \n3  4f7KfxeHq9BiylGmyXepGt  Tanishk Bagchi   \n4  56mfhUDKa1vec6rSLZV5Eg       Jawsh 685   \n\n                                              genres  \n0  [country rap, lgbtq+ hip hop, pop rap, queer c...  \n1  [dance pop, edm, pop dance, pop house, tropica...  \n2                                         [speedrun]  \n3                [desi pop, filmi, modern bollywood]  \n4                                           [nz pop]  ",
      "text/html": "<div>\n<style scoped>\n    .dataframe tbody tr th:only-of-type {\n        vertical-align: middle;\n    }\n\n    .dataframe tbody tr th {\n        vertical-align: top;\n    }\n\n    .dataframe thead th {\n        text-align: right;\n    }\n</style>\n<table border=\"1\" class=\"dataframe\">\n  <thead>\n    <tr style=\"text-align: right;\">\n      <th></th>\n      <th>id</th>\n      <th>name</th>\n      <th>genres</th>\n    </tr>\n  </thead>\n  <tbody>\n    <tr>\n      <th>0</th>\n      <td>7jVv8c5Fj3E9VhNjxT4snq</td>\n      <td>Lil Nas X</td>\n      <td>[country rap, lgbtq+ hip hop, pop rap, queer c...</td>\n    </tr>\n    <tr>\n      <th>1</th>\n      <td>0xRXCcSX89eobfrshSVdyu</td>\n      <td>MEDUZA</td>\n      <td>[dance pop, edm, pop dance, pop house, tropica...</td>\n    </tr>\n    <tr>\n      <th>2</th>\n      <td>3OKg7YbOIatODzkRIbLJR4</td>\n      <td>TheFatRat</td>\n      <td>[speedrun]</td>\n    </tr>\n    <tr>\n      <th>3</th>\n      <td>4f7KfxeHq9BiylGmyXepGt</td>\n      <td>Tanishk Bagchi</td>\n      <td>[desi pop, filmi, modern bollywood]</td>\n    </tr>\n    <tr>\n      <th>4</th>\n      <td>56mfhUDKa1vec6rSLZV5Eg</td>\n      <td>Jawsh 685</td>\n      <td>[nz pop]</td>\n    </tr>\n  </tbody>\n</table>\n</div>"
     },
     "execution_count": 10,
     "metadata": {},
     "output_type": "execute_result"
    }
   ],
   "source": [
    "artists.head()"
   ],
   "metadata": {
    "collapsed": false,
    "pycharm": {
     "name": "#%%\n"
    }
   }
  },
  {
   "cell_type": "markdown",
   "source": [
    "### Onehotencode genres"
   ],
   "metadata": {
    "collapsed": false,
    "pycharm": {
     "name": "#%% md\n"
    }
   }
  },
  {
   "cell_type": "markdown",
   "source": [
    "https://stackoverflow.com/questions/45312377/how-to-one-hot-encode-from-a-pandas-column-containing-a-list"
   ],
   "metadata": {
    "collapsed": false,
    "pycharm": {
     "name": "#%% md\n"
    }
   }
  },
  {
   "cell_type": "code",
   "execution_count": 11,
   "outputs": [],
   "source": [
    "from sklearn.preprocessing import MultiLabelBinarizer\n",
    "\n",
    "mlb = MultiLabelBinarizer(sparse_output=True)\n",
    "\n",
    "artists = artists.join(\n",
    "            pd.DataFrame.sparse.from_spmatrix(\n",
    "                mlb.fit_transform(artists.pop('genres')),\n",
    "                index=artists.index,\n",
    "                columns=mlb.classes_))"
   ],
   "metadata": {
    "collapsed": false,
    "pycharm": {
     "name": "#%%\n"
    }
   }
  },
  {
   "cell_type": "code",
   "execution_count": 12,
   "outputs": [
    {
     "data": {
      "text/plain": "                       id            name  a cappella  acid rock  \\\n0  7jVv8c5Fj3E9VhNjxT4snq       Lil Nas X           0          0   \n1  0xRXCcSX89eobfrshSVdyu          MEDUZA           0          0   \n2  3OKg7YbOIatODzkRIbLJR4       TheFatRat           0          0   \n3  4f7KfxeHq9BiylGmyXepGt  Tanishk Bagchi           0          0   \n4  56mfhUDKa1vec6rSLZV5Eg       Jawsh 685           0          0   \n\n   acoustic pop  adult standards  afro dancehall  afrofuturism  \\\n0             0                0               0             0   \n1             0                0               0             0   \n2             0                0               0             0   \n3             0                0               0             0   \n4             0                0               0             0   \n\n   afrofuturismo brasileiro  afropop  ...  welsh metal  west coast rap  \\\n0                         0        0  ...            0               0   \n1                         0        0  ...            0               0   \n2                         0        0  ...            0               0   \n3                         0        0  ...            0               0   \n4                         0        0  ...            0               0   \n\n   women's music  world  world worship  worship  wrestling  yacht rock  \\\n0              0      0              0        0          0           0   \n1              0      0              0        0          0           0   \n2              0      0              0        0          0           0   \n3              0      0              0        0          0           0   \n4              0      0              0        0          0           0   \n\n   zhongguo feng  zolo  \n0              0     0  \n1              0     0  \n2              0     0  \n3              0     0  \n4              0     0  \n\n[5 rows x 848 columns]",
      "text/html": "<div>\n<style scoped>\n    .dataframe tbody tr th:only-of-type {\n        vertical-align: middle;\n    }\n\n    .dataframe tbody tr th {\n        vertical-align: top;\n    }\n\n    .dataframe thead th {\n        text-align: right;\n    }\n</style>\n<table border=\"1\" class=\"dataframe\">\n  <thead>\n    <tr style=\"text-align: right;\">\n      <th></th>\n      <th>id</th>\n      <th>name</th>\n      <th>a cappella</th>\n      <th>acid rock</th>\n      <th>acoustic pop</th>\n      <th>adult standards</th>\n      <th>afro dancehall</th>\n      <th>afrofuturism</th>\n      <th>afrofuturismo brasileiro</th>\n      <th>afropop</th>\n      <th>...</th>\n      <th>welsh metal</th>\n      <th>west coast rap</th>\n      <th>women's music</th>\n      <th>world</th>\n      <th>world worship</th>\n      <th>worship</th>\n      <th>wrestling</th>\n      <th>yacht rock</th>\n      <th>zhongguo feng</th>\n      <th>zolo</th>\n    </tr>\n  </thead>\n  <tbody>\n    <tr>\n      <th>0</th>\n      <td>7jVv8c5Fj3E9VhNjxT4snq</td>\n      <td>Lil Nas X</td>\n      <td>0</td>\n      <td>0</td>\n      <td>0</td>\n      <td>0</td>\n      <td>0</td>\n      <td>0</td>\n      <td>0</td>\n      <td>0</td>\n      <td>...</td>\n      <td>0</td>\n      <td>0</td>\n      <td>0</td>\n      <td>0</td>\n      <td>0</td>\n      <td>0</td>\n      <td>0</td>\n      <td>0</td>\n      <td>0</td>\n      <td>0</td>\n    </tr>\n    <tr>\n      <th>1</th>\n      <td>0xRXCcSX89eobfrshSVdyu</td>\n      <td>MEDUZA</td>\n      <td>0</td>\n      <td>0</td>\n      <td>0</td>\n      <td>0</td>\n      <td>0</td>\n      <td>0</td>\n      <td>0</td>\n      <td>0</td>\n      <td>...</td>\n      <td>0</td>\n      <td>0</td>\n      <td>0</td>\n      <td>0</td>\n      <td>0</td>\n      <td>0</td>\n      <td>0</td>\n      <td>0</td>\n      <td>0</td>\n      <td>0</td>\n    </tr>\n    <tr>\n      <th>2</th>\n      <td>3OKg7YbOIatODzkRIbLJR4</td>\n      <td>TheFatRat</td>\n      <td>0</td>\n      <td>0</td>\n      <td>0</td>\n      <td>0</td>\n      <td>0</td>\n      <td>0</td>\n      <td>0</td>\n      <td>0</td>\n      <td>...</td>\n      <td>0</td>\n      <td>0</td>\n      <td>0</td>\n      <td>0</td>\n      <td>0</td>\n      <td>0</td>\n      <td>0</td>\n      <td>0</td>\n      <td>0</td>\n      <td>0</td>\n    </tr>\n    <tr>\n      <th>3</th>\n      <td>4f7KfxeHq9BiylGmyXepGt</td>\n      <td>Tanishk Bagchi</td>\n      <td>0</td>\n      <td>0</td>\n      <td>0</td>\n      <td>0</td>\n      <td>0</td>\n      <td>0</td>\n      <td>0</td>\n      <td>0</td>\n      <td>...</td>\n      <td>0</td>\n      <td>0</td>\n      <td>0</td>\n      <td>0</td>\n      <td>0</td>\n      <td>0</td>\n      <td>0</td>\n      <td>0</td>\n      <td>0</td>\n      <td>0</td>\n    </tr>\n    <tr>\n      <th>4</th>\n      <td>56mfhUDKa1vec6rSLZV5Eg</td>\n      <td>Jawsh 685</td>\n      <td>0</td>\n      <td>0</td>\n      <td>0</td>\n      <td>0</td>\n      <td>0</td>\n      <td>0</td>\n      <td>0</td>\n      <td>0</td>\n      <td>...</td>\n      <td>0</td>\n      <td>0</td>\n      <td>0</td>\n      <td>0</td>\n      <td>0</td>\n      <td>0</td>\n      <td>0</td>\n      <td>0</td>\n      <td>0</td>\n      <td>0</td>\n    </tr>\n  </tbody>\n</table>\n<p>5 rows × 848 columns</p>\n</div>"
     },
     "execution_count": 12,
     "metadata": {},
     "output_type": "execute_result"
    }
   ],
   "source": [
    "artists.head()"
   ],
   "metadata": {
    "collapsed": false,
    "pycharm": {
     "name": "#%%\n"
    }
   }
  },
  {
   "cell_type": "markdown",
   "source": [
    "### Save processed artists"
   ],
   "metadata": {
    "collapsed": false,
    "pycharm": {
     "name": "#%% md\n"
    }
   }
  },
  {
   "cell_type": "code",
   "execution_count": 14,
   "outputs": [],
   "source": [
    "if not os.path.isdir(PROCESSED_DATA_DIR):\n",
    "    os.makedirs(PROCESSED_DATA_DIR)\n",
    "\n",
    "with open(os.path.join(PROCESSED_DATA_DIR, \"artists.csv\"), \"w+\", encoding='utf-8') as f:\n",
    "    artists.to_csv(f, index=False)"
   ],
   "metadata": {
    "collapsed": false,
    "pycharm": {
     "name": "#%%\n"
    }
   }
  },
  {
   "cell_type": "markdown",
   "source": [
    "## Sessions"
   ],
   "metadata": {
    "collapsed": false,
    "pycharm": {
     "name": "#%% md\n"
    }
   }
  },
  {
   "cell_type": "markdown",
   "source": [
    "### Ratio of missing data in each column with respect to the whole dataset"
   ],
   "metadata": {
    "collapsed": false,
    "pycharm": {
     "name": "#%% md\n"
    }
   }
  },
  {
   "cell_type": "code",
   "execution_count": 5,
   "outputs": [
    {
     "data": {
      "text/plain": "array(['play', 'advertisment', 'like', 'skip'], dtype=object)"
     },
     "execution_count": 5,
     "metadata": {},
     "output_type": "execute_result"
    }
   ],
   "source": [
    "sessions.event_type.unique()"
   ],
   "metadata": {
    "collapsed": false,
    "pycharm": {
     "name": "#%%\n"
    }
   }
  },
  {
   "cell_type": "code",
   "execution_count": 6,
   "outputs": [
    {
     "data": {
      "text/plain": "session_id    0.000000\ntimestamp     0.000000\nuser_id       0.000000\ntrack_id      0.136383\nevent_type    0.000000\ndtype: float64"
     },
     "execution_count": 6,
     "metadata": {},
     "output_type": "execute_result"
    }
   ],
   "source": [
    "sessions.isna().sum()/sessions.shape[0]"
   ],
   "metadata": {
    "collapsed": false,
    "pycharm": {
     "name": "#%%\n"
    }
   }
  },
  {
   "cell_type": "code",
   "execution_count": 7,
   "outputs": [
    {
     "data": {
      "text/plain": "(5000000, 5)"
     },
     "execution_count": 7,
     "metadata": {},
     "output_type": "execute_result"
    }
   ],
   "source": [
    "sessions.shape"
   ],
   "metadata": {
    "collapsed": false,
    "pycharm": {
     "name": "#%%\n"
    }
   }
  },
  {
   "cell_type": "code",
   "execution_count": 9,
   "outputs": [],
   "source": [
    "user108 = sessions[sessions.user_id == 108]"
   ],
   "metadata": {
    "collapsed": false,
    "pycharm": {
     "name": "#%%\n"
    }
   }
  },
  {
   "cell_type": "code",
   "execution_count": 13,
   "outputs": [],
   "source": [
    "user108.to_excel(\"../data/test/sessions_user_108.xlsx\", index=False)"
   ],
   "metadata": {
    "collapsed": false,
    "pycharm": {
     "name": "#%%\n"
    }
   }
  },
  {
   "cell_type": "code",
   "execution_count": 9,
   "outputs": [],
   "source": [
    "missing_per_session = sessions.groupby(\"session_id\").apply(lambda x: x.isna().sum()/len(x))  # calculate percentage of missing data in each session"
   ],
   "metadata": {
    "collapsed": false,
    "pycharm": {
     "name": "#%%\n"
    }
   }
  },
  {
   "cell_type": "code",
   "execution_count": 10,
   "outputs": [
    {
     "data": {
      "text/plain": "            session_id  timestamp  user_id  track_id  event_type\nsession_id                                                      \n124                0.0        0.0      0.0  0.285714         0.0\n125                0.0        0.0      0.0  0.133333         0.0\n126                0.0        0.0      0.0  0.120000         0.0\n127                0.0        0.0      0.0  0.121212         0.0\n128                0.0        0.0      0.0  0.000000         0.0",
      "text/html": "<div>\n<style scoped>\n    .dataframe tbody tr th:only-of-type {\n        vertical-align: middle;\n    }\n\n    .dataframe tbody tr th {\n        vertical-align: top;\n    }\n\n    .dataframe thead th {\n        text-align: right;\n    }\n</style>\n<table border=\"1\" class=\"dataframe\">\n  <thead>\n    <tr style=\"text-align: right;\">\n      <th></th>\n      <th>session_id</th>\n      <th>timestamp</th>\n      <th>user_id</th>\n      <th>track_id</th>\n      <th>event_type</th>\n    </tr>\n    <tr>\n      <th>session_id</th>\n      <th></th>\n      <th></th>\n      <th></th>\n      <th></th>\n      <th></th>\n    </tr>\n  </thead>\n  <tbody>\n    <tr>\n      <th>124</th>\n      <td>0.0</td>\n      <td>0.0</td>\n      <td>0.0</td>\n      <td>0.285714</td>\n      <td>0.0</td>\n    </tr>\n    <tr>\n      <th>125</th>\n      <td>0.0</td>\n      <td>0.0</td>\n      <td>0.0</td>\n      <td>0.133333</td>\n      <td>0.0</td>\n    </tr>\n    <tr>\n      <th>126</th>\n      <td>0.0</td>\n      <td>0.0</td>\n      <td>0.0</td>\n      <td>0.120000</td>\n      <td>0.0</td>\n    </tr>\n    <tr>\n      <th>127</th>\n      <td>0.0</td>\n      <td>0.0</td>\n      <td>0.0</td>\n      <td>0.121212</td>\n      <td>0.0</td>\n    </tr>\n    <tr>\n      <th>128</th>\n      <td>0.0</td>\n      <td>0.0</td>\n      <td>0.0</td>\n      <td>0.000000</td>\n      <td>0.0</td>\n    </tr>\n  </tbody>\n</table>\n</div>"
     },
     "execution_count": 10,
     "metadata": {},
     "output_type": "execute_result"
    }
   ],
   "source": [
    "missing_per_session.head()"
   ],
   "metadata": {
    "collapsed": false,
    "pycharm": {
     "name": "#%%\n"
    }
   }
  },
  {
   "cell_type": "code",
   "execution_count": 11,
   "outputs": [],
   "source": [
    "missing_per_session = missing_per_session.drop(columns=[\"session_id\"])"
   ],
   "metadata": {
    "collapsed": false,
    "pycharm": {
     "name": "#%%\n"
    }
   }
  },
  {
   "cell_type": "markdown",
   "source": [
    "### Portion of missing and non missing data"
   ],
   "metadata": {
    "collapsed": false,
    "pycharm": {
     "name": "#%% md\n"
    }
   }
  },
  {
   "cell_type": "code",
   "execution_count": 12,
   "outputs": [
    {
     "data": {
      "text/plain": "<Figure size 432x288 with 1 Axes>",
      "image/png": "[encoded data removed]"
     },
     "metadata": {},
     "output_type": "display_data"
    }
   ],
   "source": [
    "n_records_not_nan = (missing_per_session== 0.0).all(axis=1).sum()\n",
    "n_records_nan = len(missing_per_session) - n_records_not_nan\n",
    "plt.pie([n_records_nan, n_records_not_nan], labels=['has missing values', 'no missing values'], autopct='%.0f%%', startangle=50);\n",
    "plt.title(\"Portion of sessions that have missing data\", fontsize=13);"
   ],
   "metadata": {
    "collapsed": false,
    "pycharm": {
     "name": "#%%\n"
    }
   }
  },
  {
   "cell_type": "markdown",
   "source": [
    "### Ratio of missing data in each column with respect to each session listened by user"
   ],
   "metadata": {
    "collapsed": false,
    "pycharm": {
     "name": "#%% md\n"
    }
   }
  },
  {
   "cell_type": "code",
   "execution_count": 13,
   "outputs": [
    {
     "data": {
      "text/plain": "<Figure size 1152x432 with 4 Axes>",
      "image/png": "[encoded data removed]"
     },
     "metadata": {
      "needs_background": "light"
     },
     "output_type": "display_data"
    }
   ],
   "source": [
    "fig, ax = plt.subplots(1, 4, figsize=(16, 6))\n",
    "fig.suptitle(\"Distribution of ratio of missing data in each session\", fontsize=14)\n",
    "\n",
    "for i, col_name in enumerate(missing_per_session.columns):\n",
    "    sns.histplot(data=missing_per_session, x=col_name, ax=ax[i])\n",
    "\n",
    "    mean=missing_per_session[col_name].mean()\n",
    "    median=missing_per_session[col_name].median()\n",
    "\n",
    "    if col_name != 'timestamp':\n",
    "        ylim = ax[i].get_ylim()  # get the y-axis limits\n",
    "        y_pos = (ylim[1] - ylim[0]) * 0.9 + ylim[0]  # calculate the y-position of the text\n",
    "\n",
    "        ax[i].text(mean+0.05, y_pos, f\"{round(mean, 4)}\", color='red')\n",
    "        ax[i].text(median+0.1, y_pos*0.5, f\"{round(median, 4)}\", color='green')\n",
    "\n",
    "    ax[i].axvline(x=mean, color='red', linestyle='--', linewidth=1.5, label='Average')\n",
    "    ax[i].axvline(x=median, color='green', linestyle='--', linewidth=1.5, label='Median')\n",
    "\n",
    "    ax[i].set_title(col_name);ax[i].set_yscale('log');ax[i].legend();\n",
    "\n",
    "fig.tight_layout(pad=1.5);"
   ],
   "metadata": {
    "collapsed": false,
    "pycharm": {
     "name": "#%%\n"
    }
   }
  },
  {
   "cell_type": "markdown",
   "source": [
    "### Number of tracks per session"
   ],
   "metadata": {
    "collapsed": false,
    "pycharm": {
     "name": "#%% md\n"
    }
   }
  },
  {
   "cell_type": "code",
   "execution_count": 14,
   "outputs": [],
   "source": [
    "n_tracks_per_session = sessions.groupby(\"session_id\").count().timestamp.value_counts().reset_index()\n",
    "n_tracks_per_session = n_tracks_per_session.rename(columns={'index': \"Number of tracks in session\", \"timestamp\": \"Number of sessions\"})"
   ],
   "metadata": {
    "collapsed": false,
    "pycharm": {
     "name": "#%%\n"
    }
   }
  },
  {
   "cell_type": "code",
   "execution_count": 15,
   "outputs": [
    {
     "data": {
      "text/plain": "<Figure size 432x288 with 1 Axes>",
      "image/png": "[encoded data removed]"
     },
     "metadata": {
      "needs_background": "light"
     },
     "output_type": "display_data"
    }
   ],
   "source": [
    "fig = plt.figure(figsize=(6, 4))\n",
    "sns.barplot(data=n_tracks_per_session, x=\"Number of tracks in session\", y=\"Number of sessions\")\n",
    "plt.xscale('log')\n",
    "plt.yscale('log')\n",
    "plt.title(\"Distribution of number of tracks per session\", fontsize=14);"
   ],
   "metadata": {
    "collapsed": false,
    "pycharm": {
     "name": "#%%\n"
    }
   }
  },
  {
   "cell_type": "code",
   "execution_count": 16,
   "outputs": [],
   "source": [
    "n_of_sessions_45 = n_tracks_per_session[n_tracks_per_session[\"Number of tracks in session\"]>=45][\"Number of sessions\"].sum()\n",
    "n_of_sessions_not_45 = n_tracks_per_session[\"Number of tracks in session\"].sum()/n_of_sessions_45"
   ],
   "metadata": {
    "collapsed": false,
    "pycharm": {
     "name": "#%%\n"
    }
   }
  },
  {
   "cell_type": "code",
   "execution_count": 17,
   "outputs": [
    {
     "data": {
      "text/plain": "<Figure size 432x288 with 1 Axes>",
      "image/png": "[encoded data removed]"
     },
     "metadata": {},
     "output_type": "display_data"
    }
   ],
   "source": [
    "n_records_not_nan = (missing_per_session== 0.0).all(axis=1).sum()\n",
    "n_records_nan = len(missing_per_session) - n_records_not_nan\n",
    "plt.pie([n_of_sessions_not_45, n_of_sessions_45], labels=['less than 45 tracks', 'more or 45 tracks'], autopct='%.0f%%', startangle=10);\n",
    "plt.title(\"Portion of sessions with more than 45 tracks\", fontsize=13);"
   ],
   "metadata": {
    "collapsed": false,
    "pycharm": {
     "name": "#%%\n"
    }
   }
  },
  {
   "cell_type": "markdown",
   "source": [
    "### Distribution of number of listened tracks in past month"
   ],
   "metadata": {
    "collapsed": false,
    "pycharm": {
     "name": "#%% md\n"
    }
   }
  },
  {
   "cell_type": "markdown",
   "source": [
    "We want that in each month user listened a significant number of tracks to build theirs music preferences."
   ],
   "metadata": {
    "collapsed": false,
    "pycharm": {
     "name": "#%% md\n"
    }
   }
  },
  {
   "cell_type": "code",
   "execution_count": 18,
   "outputs": [],
   "source": [
    "df = sessions.copy()"
   ],
   "metadata": {
    "collapsed": false,
    "pycharm": {
     "name": "#%%\n"
    }
   }
  },
  {
   "cell_type": "code",
   "execution_count": 19,
   "outputs": [],
   "source": [
    "df = df[df['event_type'].isin(['play', 'like'])]"
   ],
   "metadata": {
    "collapsed": false,
    "pycharm": {
     "name": "#%%\n"
    }
   }
  },
  {
   "cell_type": "code",
   "execution_count": 20,
   "outputs": [
    {
     "data": {
      "text/plain": "<Figure size 432x288 with 1 Axes>",
      "image/png": "[encoded data removed]"
     },
     "metadata": {
      "needs_background": "light"
     },
     "output_type": "display_data"
    }
   ],
   "source": [
    "# convert timestamp column to datetime\n",
    "df['timestamp'] = pd.to_datetime(df['timestamp'])\n",
    "\n",
    "# create a new column with the month and year\n",
    "df['month_year'] = df['timestamp'].dt.to_period('M')\n",
    "\n",
    "# group the data by user_id and month_year, and count the number of track_ids\n",
    "tracks_per_user_month = df.groupby(['user_id', 'month_year'])['track_id'].count()\n",
    "\n",
    "# collapse the multi-level index to a single level and sum the counts\n",
    "tracks_per_month = tracks_per_user_month.groupby('month_year').mean()\n",
    "\n",
    "# plot the distribution of tracks per month\n",
    "tracks_per_month.plot(kind='bar')\n",
    "\n",
    "# set the x-axis label\n",
    "plt.xlabel('Month and Year')\n",
    "\n",
    "# set the y-axis label\n",
    "plt.ylabel('Number of Tracks Listened')\n",
    "\n",
    "# set the title of the plot\n",
    "plt.title('Mean number of tracks listened per month by users')\n",
    "\n",
    "# show the plot\n",
    "plt.show()"
   ],
   "metadata": {
    "collapsed": false,
    "pycharm": {
     "name": "#%%\n"
    }
   }
  },
  {
   "cell_type": "markdown",
   "source": [
    "### Conclusions\n",
    "\n",
    "1. In order to utilize sessions, we should have no missing data in every session"
   ],
   "metadata": {
    "collapsed": false,
    "pycharm": {
     "name": "#%% md\n"
    }
   }
  },
  {
   "cell_type": "markdown",
   "source": [
    "## Users"
   ],
   "metadata": {
    "collapsed": false,
    "pycharm": {
     "name": "#%% md\n"
    }
   }
  },
  {
   "cell_type": "code",
   "execution_count": 15,
   "outputs": [
    {
     "data": {
      "text/plain": "   user_id  name  city  street  \\\n0      101   NaN   NaN     NaN   \n1      102   NaN   NaN     NaN   \n2      103   NaN   NaN     NaN   \n3      104   NaN   NaN     NaN   \n4      105   NaN   NaN     NaN   \n5      106   NaN   NaN     NaN   \n6      107   NaN   NaN     NaN   \n7      108   NaN   NaN     NaN   \n8      109   NaN   NaN     NaN   \n9      110   NaN   NaN     NaN   \n\n                                    favourite_genres  premium_user  \n0                      [dance pop, latin, hard rock]         False  \n1          [reggaeton, latin arena pop, modern rock]         False  \n2                              [rap, art rock, rock]         False  \n3  [mexican pop, contemporary country, psychedeli...         False  \n4            [rock, adult standards, permanent wave]         False  \n5                      [ranchera, canadian pop, pop]         False  \n6           [folk rock, dance pop, regional mexican]         False  \n7            [adult standards, dance pop, latin pop]         False  \n8               [electropop, latin arena pop, latin]          True  \n9                       [rock, reggaeton, hard rock]          True  ",
      "text/html": "<div>\n<style scoped>\n    .dataframe tbody tr th:only-of-type {\n        vertical-align: middle;\n    }\n\n    .dataframe tbody tr th {\n        vertical-align: top;\n    }\n\n    .dataframe thead th {\n        text-align: right;\n    }\n</style>\n<table border=\"1\" class=\"dataframe\">\n  <thead>\n    <tr style=\"text-align: right;\">\n      <th></th>\n      <th>user_id</th>\n      <th>name</th>\n      <th>city</th>\n      <th>street</th>\n      <th>favourite_genres</th>\n      <th>premium_user</th>\n    </tr>\n  </thead>\n  <tbody>\n    <tr>\n      <th>0</th>\n      <td>101</td>\n      <td>NaN</td>\n      <td>NaN</td>\n      <td>NaN</td>\n      <td>[dance pop, latin, hard rock]</td>\n      <td>False</td>\n    </tr>\n    <tr>\n      <th>1</th>\n      <td>102</td>\n      <td>NaN</td>\n      <td>NaN</td>\n      <td>NaN</td>\n      <td>[reggaeton, latin arena pop, modern rock]</td>\n      <td>False</td>\n    </tr>\n    <tr>\n      <th>2</th>\n      <td>103</td>\n      <td>NaN</td>\n      <td>NaN</td>\n      <td>NaN</td>\n      <td>[rap, art rock, rock]</td>\n      <td>False</td>\n    </tr>\n    <tr>\n      <th>3</th>\n      <td>104</td>\n      <td>NaN</td>\n      <td>NaN</td>\n      <td>NaN</td>\n      <td>[mexican pop, contemporary country, psychedeli...</td>\n      <td>False</td>\n    </tr>\n    <tr>\n      <th>4</th>\n      <td>105</td>\n      <td>NaN</td>\n      <td>NaN</td>\n      <td>NaN</td>\n      <td>[rock, adult standards, permanent wave]</td>\n      <td>False</td>\n    </tr>\n    <tr>\n      <th>5</th>\n      <td>106</td>\n      <td>NaN</td>\n      <td>NaN</td>\n      <td>NaN</td>\n      <td>[ranchera, canadian pop, pop]</td>\n      <td>False</td>\n    </tr>\n    <tr>\n      <th>6</th>\n      <td>107</td>\n      <td>NaN</td>\n      <td>NaN</td>\n      <td>NaN</td>\n      <td>[folk rock, dance pop, regional mexican]</td>\n      <td>False</td>\n    </tr>\n    <tr>\n      <th>7</th>\n      <td>108</td>\n      <td>NaN</td>\n      <td>NaN</td>\n      <td>NaN</td>\n      <td>[adult standards, dance pop, latin pop]</td>\n      <td>False</td>\n    </tr>\n    <tr>\n      <th>8</th>\n      <td>109</td>\n      <td>NaN</td>\n      <td>NaN</td>\n      <td>NaN</td>\n      <td>[electropop, latin arena pop, latin]</td>\n      <td>True</td>\n    </tr>\n    <tr>\n      <th>9</th>\n      <td>110</td>\n      <td>NaN</td>\n      <td>NaN</td>\n      <td>NaN</td>\n      <td>[rock, reggaeton, hard rock]</td>\n      <td>True</td>\n    </tr>\n  </tbody>\n</table>\n</div>"
     },
     "execution_count": 15,
     "metadata": {},
     "output_type": "execute_result"
    }
   ],
   "source": [
    "users.head(10)"
   ],
   "metadata": {
    "collapsed": false,
    "pycharm": {
     "name": "#%%\n"
    }
   }
  },
  {
   "cell_type": "markdown",
   "source": [
    "Some columns were anonymized, so they can contain missing values. However, other columns are necessary for the analysis."
   ],
   "metadata": {
    "collapsed": false,
    "pycharm": {
     "name": "#%% md\n"
    }
   }
  },
  {
   "cell_type": "code",
   "execution_count": 16,
   "outputs": [],
   "source": [
    "IMPORTANT_COLS = ['user_id', 'favourite_genres', 'premium_user']"
   ],
   "metadata": {
    "collapsed": false,
    "pycharm": {
     "name": "#%%\n"
    }
   }
  },
  {
   "cell_type": "code",
   "execution_count": 17,
   "outputs": [
    {
     "data": {
      "text/plain": "<Figure size 432x288 with 1 Axes>",
      "image/png": "[encoded data removed]"
     },
     "metadata": {},
     "output_type": "display_data"
    }
   ],
   "source": [
    "n_records_nan = users[IMPORTANT_COLS].isna().any(axis=1).sum()\n",
    "n_records_not_nan = len(users) - n_records_nan\n",
    "plt.pie([n_records_nan, n_records_not_nan], labels=['has missing values', 'no missing values'], autopct='%.0f%%', startangle=140);\n",
    "plt.title(\"Portion of users that have missing data\", fontsize=13);"
   ],
   "metadata": {
    "collapsed": false,
    "pycharm": {
     "name": "#%%\n"
    }
   }
  },
  {
   "cell_type": "markdown",
   "source": [
    "## Tracks"
   ],
   "metadata": {
    "collapsed": false,
    "pycharm": {
     "name": "#%% md\n"
    }
   }
  },
  {
   "cell_type": "code",
   "execution_count": 18,
   "outputs": [
    {
     "data": {
      "text/plain": "                       id                                               name  \\\n0  0RNxWy0PC3AyH4ThH3aGK6                                     Mack the Knife   \n1  2W889aLIKxULEefrleFBFI                           Someone to Watch Over Me   \n2  4Pnzw1nLOpDNV6MKI5ueIR     Nancy (With the Laughing Face) - 78rpm Version   \n3  7GLmfKOe5BfOXk7334DoKt  Saturday Night (Is The Loneliest Night In The ...   \n4  6kD1SNGPkfX9LwaGd1FG92             Put Your Dreams Away (For Another Day)   \n5  5RcvlmVx2xtFcp2Ta5pw7X                           Someone To Watch Over Me   \n6  5DIVWgTeJ2fPIxaY9e7ZKn                            I've Got A Crush On You   \n7  0x0ffSAP6PkdoDgHOfroof                    My Funny Valentine - Remastered   \n8  0Hsc0sIaxOxXBZbT3ms2oj  In The Wee Small Hours Of The Morning - Remast...   \n9  3aEJMh1cXKEjgh52claxQp       I've Got You Under My Skin - Remastered 1998   \n\n   popularity  duration_ms  explicit               id_artist release_date  \\\n0          55       201467         0  19eLuQmk9aCobbVDHc6eek         1929   \n1          54       198000         0  1Mxqyy3pSjf8kZZL4QVxS0         1943   \n2          55       199000         0  1Mxqyy3pSjf8kZZL4QVxS0         1944   \n3          54       163000         0  1Mxqyy3pSjf8kZZL4QVxS0         1944   \n4          53       186173         0  1Mxqyy3pSjf8kZZL4QVxS0         1944   \n5          57       196667         0  5V0MlUE1Bft0mbLlND7FJz   1950-09-11   \n6          56       196440         0  5V0MlUE1Bft0mbLlND7FJz   1950-09-11   \n7          54       150667         0  1Mxqyy3pSjf8kZZL4QVxS0   1954-01-01   \n8          60       180933         0  1Mxqyy3pSjf8kZZL4QVxS0         1955   \n9          68       223760         0  1Mxqyy3pSjf8kZZL4QVxS0      1956-03   \n\n   danceability  energy  key  loudness  speechiness  acousticness  \\\n0         0.673  0.3770    0   -14.141       0.0697         0.586   \n1         0.204  0.1510    2   -17.842       0.0418         0.947   \n2         0.295  0.0826    1   -19.569       0.0367         0.984   \n3         0.561  0.3350    9   -11.093       0.0499         0.840   \n4         0.197  0.0546    1   -22.411       0.0346         0.950   \n5         0.354  0.0851    7   -13.738       0.0345         0.990   \n6         0.455  0.1060    2   -14.086       0.0422         0.986   \n7         0.257  0.1250   11   -14.267       0.0332         0.891   \n8         0.290  0.0874    0   -16.119       0.0346         0.856   \n9         0.585  0.2470    1   -12.612       0.0400         0.452   \n\n   instrumentalness  liveness  valence    tempo  \n0          0.000000     0.332   0.7130   88.973  \n1          0.000009     0.321   0.1340   91.783  \n2          0.000358     0.156   0.1690  128.600  \n3          0.000002     0.788   0.5900  126.974  \n4          0.276000     0.152   0.1000   90.150  \n5          0.000004     0.123   0.1970   97.684  \n6          0.000000     0.122   0.2580   66.807  \n7          0.000000     0.108   0.2450   84.930  \n8          0.000957     0.109   0.0734  114.997  \n9          0.000009     0.107   0.5910  127.150  ",
      "text/html": "<div>\n<style scoped>\n    .dataframe tbody tr th:only-of-type {\n        vertical-align: middle;\n    }\n\n    .dataframe tbody tr th {\n        vertical-align: top;\n    }\n\n    .dataframe thead th {\n        text-align: right;\n    }\n</style>\n<table border=\"1\" class=\"dataframe\">\n  <thead>\n    <tr style=\"text-align: right;\">\n      <th></th>\n      <th>id</th>\n      <th>name</th>\n      <th>popularity</th>\n      <th>duration_ms</th>\n      <th>explicit</th>\n      <th>id_artist</th>\n      <th>release_date</th>\n      <th>danceability</th>\n      <th>energy</th>\n      <th>key</th>\n      <th>loudness</th>\n      <th>speechiness</th>\n      <th>acousticness</th>\n      <th>instrumentalness</th>\n      <th>liveness</th>\n      <th>valence</th>\n      <th>tempo</th>\n    </tr>\n  </thead>\n  <tbody>\n    <tr>\n      <th>0</th>\n      <td>0RNxWy0PC3AyH4ThH3aGK6</td>\n      <td>Mack the Knife</td>\n      <td>55</td>\n      <td>201467</td>\n      <td>0</td>\n      <td>19eLuQmk9aCobbVDHc6eek</td>\n      <td>1929</td>\n      <td>0.673</td>\n      <td>0.3770</td>\n      <td>0</td>\n      <td>-14.141</td>\n      <td>0.0697</td>\n      <td>0.586</td>\n      <td>0.000000</td>\n      <td>0.332</td>\n      <td>0.7130</td>\n      <td>88.973</td>\n    </tr>\n    <tr>\n      <th>1</th>\n      <td>2W889aLIKxULEefrleFBFI</td>\n      <td>Someone to Watch Over Me</td>\n      <td>54</td>\n      <td>198000</td>\n      <td>0</td>\n      <td>1Mxqyy3pSjf8kZZL4QVxS0</td>\n      <td>1943</td>\n      <td>0.204</td>\n      <td>0.1510</td>\n      <td>2</td>\n      <td>-17.842</td>\n      <td>0.0418</td>\n      <td>0.947</td>\n      <td>0.000009</td>\n      <td>0.321</td>\n      <td>0.1340</td>\n      <td>91.783</td>\n    </tr>\n    <tr>\n      <th>2</th>\n      <td>4Pnzw1nLOpDNV6MKI5ueIR</td>\n      <td>Nancy (With the Laughing Face) - 78rpm Version</td>\n      <td>55</td>\n      <td>199000</td>\n      <td>0</td>\n      <td>1Mxqyy3pSjf8kZZL4QVxS0</td>\n      <td>1944</td>\n      <td>0.295</td>\n      <td>0.0826</td>\n      <td>1</td>\n      <td>-19.569</td>\n      <td>0.0367</td>\n      <td>0.984</td>\n      <td>0.000358</td>\n      <td>0.156</td>\n      <td>0.1690</td>\n      <td>128.600</td>\n    </tr>\n    <tr>\n      <th>3</th>\n      <td>7GLmfKOe5BfOXk7334DoKt</td>\n      <td>Saturday Night (Is The Loneliest Night In The ...</td>\n      <td>54</td>\n      <td>163000</td>\n      <td>0</td>\n      <td>1Mxqyy3pSjf8kZZL4QVxS0</td>\n      <td>1944</td>\n      <td>0.561</td>\n      <td>0.3350</td>\n      <td>9</td>\n      <td>-11.093</td>\n      <td>0.0499</td>\n      <td>0.840</td>\n      <td>0.000002</td>\n      <td>0.788</td>\n      <td>0.5900</td>\n      <td>126.974</td>\n    </tr>\n    <tr>\n      <th>4</th>\n      <td>6kD1SNGPkfX9LwaGd1FG92</td>\n      <td>Put Your Dreams Away (For Another Day)</td>\n      <td>53</td>\n      <td>186173</td>\n      <td>0</td>\n      <td>1Mxqyy3pSjf8kZZL4QVxS0</td>\n      <td>1944</td>\n      <td>0.197</td>\n      <td>0.0546</td>\n      <td>1</td>\n      <td>-22.411</td>\n      <td>0.0346</td>\n      <td>0.950</td>\n      <td>0.276000</td>\n      <td>0.152</td>\n      <td>0.1000</td>\n      <td>90.150</td>\n    </tr>\n    <tr>\n      <th>5</th>\n      <td>5RcvlmVx2xtFcp2Ta5pw7X</td>\n      <td>Someone To Watch Over Me</td>\n      <td>57</td>\n      <td>196667</td>\n      <td>0</td>\n      <td>5V0MlUE1Bft0mbLlND7FJz</td>\n      <td>1950-09-11</td>\n      <td>0.354</td>\n      <td>0.0851</td>\n      <td>7</td>\n      <td>-13.738</td>\n      <td>0.0345</td>\n      <td>0.990</td>\n      <td>0.000004</td>\n      <td>0.123</td>\n      <td>0.1970</td>\n      <td>97.684</td>\n    </tr>\n    <tr>\n      <th>6</th>\n      <td>5DIVWgTeJ2fPIxaY9e7ZKn</td>\n      <td>I've Got A Crush On You</td>\n      <td>56</td>\n      <td>196440</td>\n      <td>0</td>\n      <td>5V0MlUE1Bft0mbLlND7FJz</td>\n      <td>1950-09-11</td>\n      <td>0.455</td>\n      <td>0.1060</td>\n      <td>2</td>\n      <td>-14.086</td>\n      <td>0.0422</td>\n      <td>0.986</td>\n      <td>0.000000</td>\n      <td>0.122</td>\n      <td>0.2580</td>\n      <td>66.807</td>\n    </tr>\n    <tr>\n      <th>7</th>\n      <td>0x0ffSAP6PkdoDgHOfroof</td>\n      <td>My Funny Valentine - Remastered</td>\n      <td>54</td>\n      <td>150667</td>\n      <td>0</td>\n      <td>1Mxqyy3pSjf8kZZL4QVxS0</td>\n      <td>1954-01-01</td>\n      <td>0.257</td>\n      <td>0.1250</td>\n      <td>11</td>\n      <td>-14.267</td>\n      <td>0.0332</td>\n      <td>0.891</td>\n      <td>0.000000</td>\n      <td>0.108</td>\n      <td>0.2450</td>\n      <td>84.930</td>\n    </tr>\n    <tr>\n      <th>8</th>\n      <td>0Hsc0sIaxOxXBZbT3ms2oj</td>\n      <td>In The Wee Small Hours Of The Morning - Remast...</td>\n      <td>60</td>\n      <td>180933</td>\n      <td>0</td>\n      <td>1Mxqyy3pSjf8kZZL4QVxS0</td>\n      <td>1955</td>\n      <td>0.290</td>\n      <td>0.0874</td>\n      <td>0</td>\n      <td>-16.119</td>\n      <td>0.0346</td>\n      <td>0.856</td>\n      <td>0.000957</td>\n      <td>0.109</td>\n      <td>0.0734</td>\n      <td>114.997</td>\n    </tr>\n    <tr>\n      <th>9</th>\n      <td>3aEJMh1cXKEjgh52claxQp</td>\n      <td>I've Got You Under My Skin - Remastered 1998</td>\n      <td>68</td>\n      <td>223760</td>\n      <td>0</td>\n      <td>1Mxqyy3pSjf8kZZL4QVxS0</td>\n      <td>1956-03</td>\n      <td>0.585</td>\n      <td>0.2470</td>\n      <td>1</td>\n      <td>-12.612</td>\n      <td>0.0400</td>\n      <td>0.452</td>\n      <td>0.000009</td>\n      <td>0.107</td>\n      <td>0.5910</td>\n      <td>127.150</td>\n    </tr>\n  </tbody>\n</table>\n</div>"
     },
     "execution_count": 18,
     "metadata": {},
     "output_type": "execute_result"
    }
   ],
   "source": [
    "tracks.head(10)"
   ],
   "metadata": {
    "collapsed": false,
    "pycharm": {
     "name": "#%%\n"
    }
   }
  },
  {
   "cell_type": "code",
   "execution_count": 19,
   "outputs": [
    {
     "data": {
      "text/plain": "<Figure size 432x288 with 1 Axes>",
      "image/png": "[encoded data removed]"
     },
     "metadata": {},
     "output_type": "display_data"
    }
   ],
   "source": [
    "n_records_nan = tracks.isna().any(axis=1).sum()\n",
    "n_records_not_nan = len(tracks) - n_records_nan\n",
    "plt.pie([n_records_nan, n_records_not_nan], labels=['has missing values', 'no missing values'], autopct='%.0f%%', startangle=140);\n",
    "plt.title(\"Portion of tracks that have missing data\", fontsize=13);"
   ],
   "metadata": {
    "collapsed": false,
    "pycharm": {
     "name": "#%%\n"
    }
   }
  },
  {
   "cell_type": "code",
   "execution_count": 20,
   "outputs": [
    {
     "ename": "NameError",
     "evalue": "name 'sessions' is not defined",
     "output_type": "error",
     "traceback": [
      "\u001B[1;31m---------------------------------------------------------------------------\u001B[0m",
      "\u001B[1;31mNameError\u001B[0m                                 Traceback (most recent call last)",
      "Input \u001B[1;32mIn [20]\u001B[0m, in \u001B[0;36m<cell line: 1>\u001B[1;34m()\u001B[0m\n\u001B[1;32m----> 1\u001B[0m tracks_in \u001B[38;5;241m=\u001B[39m \u001B[43msessions\u001B[49m[\u001B[38;5;241m~\u001B[39msessions\u001B[38;5;241m.\u001B[39misna()\u001B[38;5;241m.\u001B[39many(axis\u001B[38;5;241m=\u001B[39m\u001B[38;5;241m1\u001B[39m)]\u001B[38;5;241m.\u001B[39mtrack_id\u001B[38;5;241m.\u001B[39misin(tracks\u001B[38;5;241m.\u001B[39mid)\n",
      "\u001B[1;31mNameError\u001B[0m: name 'sessions' is not defined"
     ]
    }
   ],
   "source": [
    "tracks_in = sessions[~sessions.isna().any(axis=1)].track_id.isin(tracks.id)"
   ],
   "metadata": {
    "collapsed": false,
    "pycharm": {
     "name": "#%%\n"
    }
   }
  },
  {
   "cell_type": "code",
   "execution_count": null,
   "outputs": [],
   "source": [
    "tracks_in.sum()/lentracks_in)"
   ],
   "metadata": {
    "collapsed": false,
    "pycharm": {
     "name": "#%%\n"
    }
   }
  },
  {
   "cell_type": "code",
   "execution_count": 21,
   "outputs": [
    {
     "data": {
      "text/plain": "((22412, 17),\n id                   object\n name                 object\n popularity            int64\n duration_ms           int64\n explicit              int64\n id_artist            object\n release_date         object\n danceability        float64\n energy              float64\n key                   int64\n loudness            float64\n speechiness         float64\n acousticness        float64\n instrumentalness    float64\n liveness            float64\n valence             float64\n tempo               float64\n dtype: object)"
     },
     "execution_count": 21,
     "metadata": {},
     "output_type": "execute_result"
    }
   ],
   "source": [
    "tracks.shape, tracks.dtypes"
   ],
   "metadata": {
    "collapsed": false,
    "pycharm": {
     "name": "#%%\n"
    }
   }
  },
  {
   "cell_type": "code",
   "execution_count": 103,
   "outputs": [
    {
     "data": {
      "text/plain": "id                  0.051803\nname                0.051133\npopularity          0.052829\nduration_ms         0.000000\nexplicit            0.000000\nid_artist           0.047876\nrelease_date        0.000000\ndanceability        0.000000\nenergy              0.000000\nkey                 0.000000\nloudness            0.000000\nspeechiness         0.000000\nacousticness        0.000000\ninstrumentalness    0.000000\nliveness            0.000000\nvalence             0.000000\ntempo               0.000000\ndtype: float64"
     },
     "execution_count": 103,
     "metadata": {},
     "output_type": "execute_result"
    }
   ],
   "source": [
    "tracks.isna().sum()/tracks.shape[0]"
   ],
   "metadata": {
    "collapsed": false,
    "pycharm": {
     "name": "#%%\n"
    }
   }
  },
  {
   "cell_type": "markdown",
   "source": [],
   "metadata": {
    "collapsed": false,
    "pycharm": {
     "name": "#%% md\n"
    }
   }
  },
  {
   "cell_type": "markdown",
   "source": [],
   "metadata": {
    "collapsed": false,
    "pycharm": {
     "name": "#%% md\n"
    }
   }
  },
  {
   "cell_type": "markdown",
   "source": [],
   "metadata": {
    "collapsed": false,
    "pycharm": {
     "name": "#%% md\n"
    }
   }
  }
 ],
 "metadata": {
  "kernelspec": {
   "display_name": "Python 3",
   "language": "python",
   "name": "python3"
  },
  "language_info": {
   "codemirror_mode": {
    "name": "ipython",
    "version": 2
   },
   "file_extension": ".py",
   "mimetype": "text/x-python",
   "name": "python",
   "nbconvert_exporter": "python",
   "pygments_lexer": "ipython2",
   "version": "2.7.6"
  }
 },
 "nbformat": 4,
 "nbformat_minor": 0
}