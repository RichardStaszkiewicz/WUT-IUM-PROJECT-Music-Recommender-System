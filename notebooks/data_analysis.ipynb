{
 "cells": [
  {
   "cell_type": "code",
   "execution_count": 22,
   "metadata": {
    "collapsed": true,
    "pycharm": {
     "name": "#%%\n"
    }
   },
   "outputs": [],
   "source": [
    "import numpy as np\n",
    "import pandas as pd\n",
    "import json\n",
    "import os\n",
    "\n",
    "import matplotlib.pyplot as plt\n",
    "import seaborn as sns"
   ]
  },
  {
   "cell_type": "markdown",
   "source": [
    "### Convert files to json formats"
   ],
   "metadata": {
    "collapsed": false,
    "pycharm": {
     "name": "#%% md\n"
    }
   }
  },
  {
   "cell_type": "code",
   "execution_count": 38,
   "outputs": [],
   "source": [
    "def get_list_of_jsons(filepath):\n",
    "    data = []\n",
    "    with open(filepath, \"r\") as f:\n",
    "        for row_data in f.readlines():\n",
    "            data.append(json.loads(row_data))\n",
    "    return data\n",
    "\n",
    "def save_json(list_of_jsons, file_name):\n",
    "    with open(file_name, \"w+\") as f:\n",
    "        json.dump(list_of_jsons, f)"
   ],
   "metadata": {
    "collapsed": false,
    "pycharm": {
     "name": "#%%\n"
    }
   }
  },
  {
   "cell_type": "code",
   "execution_count": 39,
   "outputs": [
    {
     "name": "stdout",
     "output_type": "stream",
     "text": [
      "../data/artists.jsonl\n",
      "../data/sessions.jsonl\n",
      "../data/tracks.jsonl\n",
      "../data/track_storage.jsonl\n",
      "../data/users.jsonl\n"
     ]
    }
   ],
   "source": [
    "for file_path in os.listdir(\"../data/\"):\n",
    "    file_path = os.path.join(\"../data/\", file_path)\n",
    "    data = get_list_of_jsons(file_path)\n",
    "    new_file_path = file_path[:-1]  # get filepath of json file from jsonl\n",
    "    save_json(data, new_file_path)\n",
    "    print(file_path)"
   ],
   "metadata": {
    "collapsed": false,
    "pycharm": {
     "name": "#%%\n"
    }
   }
  },
  {
   "cell_type": "markdown",
   "source": [
    "### Read data"
   ],
   "metadata": {
    "collapsed": false,
    "pycharm": {
     "name": "#%% md\n"
    }
   }
  },
  {
   "cell_type": "code",
   "execution_count": 161,
   "outputs": [],
   "source": [
    "artists = pd.read_json(\"../data/artists.json\")\n",
    "# sessions = pd.read_json(\"../data/sessions.json\")\n",
    "# tracks = pd.read_json(\"../data/tracks.json\")\n",
    "# track_storage = pd.read_json(\"../data/track_storage.json\")\n",
    "# users = pd.read_json(\"../data/users.json\")"
   ],
   "metadata": {
    "collapsed": false,
    "pycharm": {
     "name": "#%%\n"
    }
   }
  },
  {
   "cell_type": "markdown",
   "source": [
    "### Search for NaNs or wrong values"
   ],
   "metadata": {
    "collapsed": false,
    "pycharm": {
     "name": "#%% md\n"
    }
   }
  },
  {
   "cell_type": "code",
   "execution_count": 162,
   "outputs": [
    {
     "data": {
      "text/plain": "22    1596\n2       71\nName: id, dtype: int64"
     },
     "execution_count": 162,
     "metadata": {},
     "output_type": "execute_result"
    }
   ],
   "source": [
    "# convert ids to string and check their length\n",
    "artists.id.apply(lambda x: len(str(x))).value_counts()"
   ],
   "metadata": {
    "collapsed": false,
    "pycharm": {
     "name": "#%%\n"
    }
   }
  },
  {
   "cell_type": "code",
   "execution_count": 163,
   "outputs": [
    {
     "data": {
      "text/plain": "-1                        71\n1fa0cOhromAZdq2xRA4vv8     1\n6W5uA6CNMf3hd2j4a2XWCx     1\n20JZFwl6HVl6yg8a4H3ZqK     1\n1vppDmG3i5sXf3DJzrK4T1     1\nName: id, dtype: int64"
     },
     "execution_count": 163,
     "metadata": {},
     "output_type": "execute_result"
    }
   ],
   "source": [
    "artists.id.value_counts().head()"
   ],
   "metadata": {
    "collapsed": false,
    "pycharm": {
     "name": "#%%\n"
    }
   }
  },
  {
   "cell_type": "code",
   "execution_count": 164,
   "outputs": [],
   "source": [
    "# id of -1 suggest a wrong value\n",
    "artists.id.replace(-1, np.nan, inplace=True)"
   ],
   "metadata": {
    "collapsed": false,
    "pycharm": {
     "name": "#%%\n"
    }
   }
  },
  {
   "cell_type": "code",
   "execution_count": 165,
   "outputs": [
    {
     "data": {
      "text/plain": "False"
     },
     "execution_count": 165,
     "metadata": {},
     "output_type": "execute_result"
    }
   ],
   "source": [
    "artists.name.isna().any()"
   ],
   "metadata": {
    "collapsed": false,
    "pycharm": {
     "name": "#%%\n"
    }
   }
  },
  {
   "cell_type": "code",
   "execution_count": 166,
   "outputs": [],
   "source": [
    "artists = artists[~artists.isna().any(axis=1)]"
   ],
   "metadata": {
    "collapsed": false,
    "pycharm": {
     "name": "#%%\n"
    }
   }
  },
  {
   "cell_type": "code",
   "execution_count": 167,
   "outputs": [
    {
     "data": {
      "text/plain": "                       id              name  \\\n1  0xRXCcSX89eobfrshSVdyu            MEDUZA   \n3  4f7KfxeHq9BiylGmyXepGt    Tanishk Bagchi   \n4  56mfhUDKa1vec6rSLZV5Eg         Jawsh 685   \n5  523y9KSneKh6APd1hKxLuF         Master KG   \n6  25UNJbwGZSQKvz5cPLWlv3  Los Dos Carnales   \n\n                                              genres  \n1  [dance pop, edm, pop dance, pop house, tropica...  \n3                [desi pop, filmi, modern bollywood]  \n4                                           [nz pop]  \n5                              [south african house]  \n6  [corrido, norteno, nuevo regional mexicano, re...  ",
      "text/html": "<div>\n<style scoped>\n    .dataframe tbody tr th:only-of-type {\n        vertical-align: middle;\n    }\n\n    .dataframe tbody tr th {\n        vertical-align: top;\n    }\n\n    .dataframe thead th {\n        text-align: right;\n    }\n</style>\n<table border=\"1\" class=\"dataframe\">\n  <thead>\n    <tr style=\"text-align: right;\">\n      <th></th>\n      <th>id</th>\n      <th>name</th>\n      <th>genres</th>\n    </tr>\n  </thead>\n  <tbody>\n    <tr>\n      <th>1</th>\n      <td>0xRXCcSX89eobfrshSVdyu</td>\n      <td>MEDUZA</td>\n      <td>[dance pop, edm, pop dance, pop house, tropica...</td>\n    </tr>\n    <tr>\n      <th>3</th>\n      <td>4f7KfxeHq9BiylGmyXepGt</td>\n      <td>Tanishk Bagchi</td>\n      <td>[desi pop, filmi, modern bollywood]</td>\n    </tr>\n    <tr>\n      <th>4</th>\n      <td>56mfhUDKa1vec6rSLZV5Eg</td>\n      <td>Jawsh 685</td>\n      <td>[nz pop]</td>\n    </tr>\n    <tr>\n      <th>5</th>\n      <td>523y9KSneKh6APd1hKxLuF</td>\n      <td>Master KG</td>\n      <td>[south african house]</td>\n    </tr>\n    <tr>\n      <th>6</th>\n      <td>25UNJbwGZSQKvz5cPLWlv3</td>\n      <td>Los Dos Carnales</td>\n      <td>[corrido, norteno, nuevo regional mexicano, re...</td>\n    </tr>\n  </tbody>\n</table>\n</div>"
     },
     "execution_count": 167,
     "metadata": {},
     "output_type": "execute_result"
    }
   ],
   "source": [
    "artists.head()"
   ],
   "metadata": {
    "collapsed": false,
    "pycharm": {
     "name": "#%%\n"
    }
   }
  },
  {
   "cell_type": "markdown",
   "source": [
    "### Onehotencode genres"
   ],
   "metadata": {
    "collapsed": false,
    "pycharm": {
     "name": "#%% md\n"
    }
   }
  },
  {
   "cell_type": "markdown",
   "source": [
    "https://stackoverflow.com/questions/45312377/how-to-one-hot-encode-from-a-pandas-column-containing-a-list"
   ],
   "metadata": {
    "collapsed": false,
    "pycharm": {
     "name": "#%% md\n"
    }
   }
  },
  {
   "cell_type": "code",
   "execution_count": 168,
   "outputs": [],
   "source": [
    "from sklearn.preprocessing import MultiLabelBinarizer\n",
    "\n",
    "mlb = MultiLabelBinarizer(sparse_output=True)\n",
    "\n",
    "artists = artists.join(\n",
    "            pd.DataFrame.sparse.from_spmatrix(\n",
    "                mlb.fit_transform(artists.pop('genres')),\n",
    "                index=artists.index,\n",
    "                columns=mlb.classes_))"
   ],
   "metadata": {
    "collapsed": false,
    "pycharm": {
     "name": "#%%\n"
    }
   }
  },
  {
   "cell_type": "code",
   "execution_count": 170,
   "outputs": [
    {
     "data": {
      "text/plain": "                       id              name  a cappella  acid rock  \\\n1  0xRXCcSX89eobfrshSVdyu            MEDUZA           0          0   \n3  4f7KfxeHq9BiylGmyXepGt    Tanishk Bagchi           0          0   \n4  56mfhUDKa1vec6rSLZV5Eg         Jawsh 685           0          0   \n5  523y9KSneKh6APd1hKxLuF         Master KG           0          0   \n6  25UNJbwGZSQKvz5cPLWlv3  Los Dos Carnales           0          0   \n\n   acoustic pop  adult standards  afro dancehall  afrofuturism  \\\n1             0                0               0             0   \n3             0                0               0             0   \n4             0                0               0             0   \n5             0                0               0             0   \n6             0                0               0             0   \n\n   afrofuturismo brasileiro  afropop  ...  welsh metal  west coast rap  \\\n1                         0        0  ...            0               0   \n3                         0        0  ...            0               0   \n4                         0        0  ...            0               0   \n5                         0        0  ...            0               0   \n6                         0        0  ...            0               0   \n\n   women's music  world  world worship  worship  wrestling  yacht rock  \\\n1              0      0              0        0          0           0   \n3              0      0              0        0          0           0   \n4              0      0              0        0          0           0   \n5              0      0              0        0          0           0   \n6              0      0              0        0          0           0   \n\n   zhongguo feng  zolo  \n1              0     0  \n3              0     0  \n4              0     0  \n5              0     0  \n6              0     0  \n\n[5 rows x 811 columns]",
      "text/html": "<div>\n<style scoped>\n    .dataframe tbody tr th:only-of-type {\n        vertical-align: middle;\n    }\n\n    .dataframe tbody tr th {\n        vertical-align: top;\n    }\n\n    .dataframe thead th {\n        text-align: right;\n    }\n</style>\n<table border=\"1\" class=\"dataframe\">\n  <thead>\n    <tr style=\"text-align: right;\">\n      <th></th>\n      <th>id</th>\n      <th>name</th>\n      <th>a cappella</th>\n      <th>acid rock</th>\n      <th>acoustic pop</th>\n      <th>adult standards</th>\n      <th>afro dancehall</th>\n      <th>afrofuturism</th>\n      <th>afrofuturismo brasileiro</th>\n      <th>afropop</th>\n      <th>...</th>\n      <th>welsh metal</th>\n      <th>west coast rap</th>\n      <th>women's music</th>\n      <th>world</th>\n      <th>world worship</th>\n      <th>worship</th>\n      <th>wrestling</th>\n      <th>yacht rock</th>\n      <th>zhongguo feng</th>\n      <th>zolo</th>\n    </tr>\n  </thead>\n  <tbody>\n    <tr>\n      <th>1</th>\n      <td>0xRXCcSX89eobfrshSVdyu</td>\n      <td>MEDUZA</td>\n      <td>0</td>\n      <td>0</td>\n      <td>0</td>\n      <td>0</td>\n      <td>0</td>\n      <td>0</td>\n      <td>0</td>\n      <td>0</td>\n      <td>...</td>\n      <td>0</td>\n      <td>0</td>\n      <td>0</td>\n      <td>0</td>\n      <td>0</td>\n      <td>0</td>\n      <td>0</td>\n      <td>0</td>\n      <td>0</td>\n      <td>0</td>\n    </tr>\n    <tr>\n      <th>3</th>\n      <td>4f7KfxeHq9BiylGmyXepGt</td>\n      <td>Tanishk Bagchi</td>\n      <td>0</td>\n      <td>0</td>\n      <td>0</td>\n      <td>0</td>\n      <td>0</td>\n      <td>0</td>\n      <td>0</td>\n      <td>0</td>\n      <td>...</td>\n      <td>0</td>\n      <td>0</td>\n      <td>0</td>\n      <td>0</td>\n      <td>0</td>\n      <td>0</td>\n      <td>0</td>\n      <td>0</td>\n      <td>0</td>\n      <td>0</td>\n    </tr>\n    <tr>\n      <th>4</th>\n      <td>56mfhUDKa1vec6rSLZV5Eg</td>\n      <td>Jawsh 685</td>\n      <td>0</td>\n      <td>0</td>\n      <td>0</td>\n      <td>0</td>\n      <td>0</td>\n      <td>0</td>\n      <td>0</td>\n      <td>0</td>\n      <td>...</td>\n      <td>0</td>\n      <td>0</td>\n      <td>0</td>\n      <td>0</td>\n      <td>0</td>\n      <td>0</td>\n      <td>0</td>\n      <td>0</td>\n      <td>0</td>\n      <td>0</td>\n    </tr>\n    <tr>\n      <th>5</th>\n      <td>523y9KSneKh6APd1hKxLuF</td>\n      <td>Master KG</td>\n      <td>0</td>\n      <td>0</td>\n      <td>0</td>\n      <td>0</td>\n      <td>0</td>\n      <td>0</td>\n      <td>0</td>\n      <td>0</td>\n      <td>...</td>\n      <td>0</td>\n      <td>0</td>\n      <td>0</td>\n      <td>0</td>\n      <td>0</td>\n      <td>0</td>\n      <td>0</td>\n      <td>0</td>\n      <td>0</td>\n      <td>0</td>\n    </tr>\n    <tr>\n      <th>6</th>\n      <td>25UNJbwGZSQKvz5cPLWlv3</td>\n      <td>Los Dos Carnales</td>\n      <td>0</td>\n      <td>0</td>\n      <td>0</td>\n      <td>0</td>\n      <td>0</td>\n      <td>0</td>\n      <td>0</td>\n      <td>0</td>\n      <td>...</td>\n      <td>0</td>\n      <td>0</td>\n      <td>0</td>\n      <td>0</td>\n      <td>0</td>\n      <td>0</td>\n      <td>0</td>\n      <td>0</td>\n      <td>0</td>\n      <td>0</td>\n    </tr>\n  </tbody>\n</table>\n<p>5 rows × 811 columns</p>\n</div>"
     },
     "execution_count": 170,
     "metadata": {},
     "output_type": "execute_result"
    }
   ],
   "source": [
    "artists.head()"
   ],
   "metadata": {
    "collapsed": false,
    "pycharm": {
     "name": "#%%\n"
    }
   }
  }
 ],
 "metadata": {
  "kernelspec": {
   "display_name": "Python 3",
   "language": "python",
   "name": "python3"
  },
  "language_info": {
   "codemirror_mode": {
    "name": "ipython",
    "version": 2
   },
   "file_extension": ".py",
   "mimetype": "text/x-python",
   "name": "python",
   "nbconvert_exporter": "python",
   "pygments_lexer": "ipython2",
   "version": "2.7.6"
  }
 },
 "nbformat": 4,
 "nbformat_minor": 0
}