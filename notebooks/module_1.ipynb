{
 "cells": [
  {
   "cell_type": "code",
   "execution_count": 33,
   "metadata": {
    "collapsed": true,
    "pycharm": {
     "name": "#%%\n"
    }
   },
   "outputs": [],
   "source": [
    "from src.user_sessions_fetcher.common.UserSessionsProvider import UserSessionsProvider"
   ]
  },
  {
   "cell_type": "code",
   "execution_count": 34,
   "outputs": [
    {
     "name": "stdout",
     "output_type": "stream",
     "text": [
      "The autoreload extension is already loaded. To reload it, use:\n",
      "  %reload_ext autoreload\n"
     ]
    }
   ],
   "source": [
    "%load_ext autoreload\n",
    "%autoreload 2"
   ],
   "metadata": {
    "collapsed": false,
    "pycharm": {
     "name": "#%%\n"
    }
   }
  },
  {
   "cell_type": "code",
   "execution_count": 35,
   "outputs": [],
   "source": [
    "usp = UserSessionsProvider()\n",
    "track_ids = usp.get_user_sessions(108)"
   ],
   "metadata": {
    "collapsed": false,
    "pycharm": {
     "name": "#%%\n"
    }
   }
  },
  {
   "cell_type": "code",
   "execution_count": 37,
   "outputs": [
    {
     "data": {
      "text/plain": "['7D8aQaRzoi9Qzz5yerVK5b',\n '2DAsLftcRKP3iarCPmI1RY',\n '29YDZUNKvBI2I64TvLj1Wt',\n '1LitgN2tFmNVEtLY6qh5SZ',\n '2gCvWjrHt6PVJjIN1amlje',\n '6bLy8YiVKRpUzwWZG6lVDq',\n '4Yf5bqU3NK4kNOypcrLYwU',\n '06EgH8BdWW9QRrlI6ZVQhW',\n '3Tows9RnoAq9CmMJaII2cO',\n '0mHyWYXmmCB9iQyK18m3FQ']"
     },
     "execution_count": 37,
     "metadata": {},
     "output_type": "execute_result"
    }
   ],
   "source": [
    "track_ids[:10]"
   ],
   "metadata": {
    "collapsed": false,
    "pycharm": {
     "name": "#%%\n"
    }
   }
  },
  {
   "cell_type": "markdown",
   "source": [
    "#### Ilość utworów w playliscie serwowanej jest rowna sredniej ilosci utworow slichanych w ostatnim miesiącu"
   ],
   "metadata": {
    "collapsed": false,
    "pycharm": {
     "name": "#%% md\n"
    }
   }
  }
 ],
 "metadata": {
  "kernelspec": {
   "display_name": "Python 3",
   "language": "python",
   "name": "python3"
  },
  "language_info": {
   "codemirror_mode": {
    "name": "ipython",
    "version": 2
   },
   "file_extension": ".py",
   "mimetype": "text/x-python",
   "name": "python",
   "nbconvert_exporter": "python",
   "pygments_lexer": "ipython2",
   "version": "2.7.6"
  }
 },
 "nbformat": 4,
 "nbformat_minor": 0
}