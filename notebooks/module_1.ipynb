{
 "cells": [
  {
   "cell_type": "code",
   "execution_count": 1,
   "metadata": {
    "collapsed": true,
    "pycharm": {
     "name": "#%%\n"
    }
   },
   "outputs": [],
   "source": [
    "from src.user_sessions_fetcher.common.UserSessionsProvider import UserSessionsProvider"
   ]
  },
  {
   "cell_type": "code",
   "execution_count": 2,
   "outputs": [],
   "source": [
    "%load_ext autoreload\n",
    "%autoreload 2"
   ],
   "metadata": {
    "collapsed": false,
    "pycharm": {
     "name": "#%%\n"
    }
   }
  },
  {
   "cell_type": "code",
   "execution_count": 13,
   "outputs": [],
   "source": [
    "usp = UserSessionsProvider()\n",
    "track_ids = usp.get_user_sessions(108)"
   ],
   "metadata": {
    "collapsed": false,
    "pycharm": {
     "name": "#%%\n"
    }
   }
  },
  {
   "cell_type": "code",
   "execution_count": 14,
   "outputs": [
    {
     "data": {
      "text/plain": "['7D8aQaRzoi9Qzz5yerVK5b',\n '2DAsLftcRKP3iarCPmI1RY',\n '29YDZUNKvBI2I64TvLj1Wt',\n '1LitgN2tFmNVEtLY6qh5SZ',\n '2gCvWjrHt6PVJjIN1amlje',\n '6bLy8YiVKRpUzwWZG6lVDq',\n '4Yf5bqU3NK4kNOypcrLYwU',\n '06EgH8BdWW9QRrlI6ZVQhW',\n '3Tows9RnoAq9CmMJaII2cO',\n '0mHyWYXmmCB9iQyK18m3FQ',\n '5eALoO9RRACvoxvLKF9zt4',\n '67v0HTNTkJmbhxOipBunXe',\n '0B0tYbVp7pDQAqKDhgMeaL',\n '4YDdWcdzHhLDZ5d1j9nRaJ',\n '5BK5IvPzmTZBGsCnYRjSue',\n '5N877LRsRxO4lHHHWHwoOv',\n '7safX55XidhznxK5eDdDm5',\n '0b7ZmVPawkWSRxQlaLTo3J',\n '6vw2D0AeWBSJhJi0OrnudX',\n '2QbcikdPIWOLA9Uumiis1X',\n '7zAt4tdL44D3VuzsvM0N8n',\n '3AR1c3Dssq51WlGGkuYJNj',\n '1jM23jASF0JrhgqYhqCZfl',\n '15FcP9qwmIKqaD5NhfhNpu',\n '7kcG2nk2Y9O1VEIyfjQO9p',\n '60l2m3BD5VY0HSc3xmSpPI',\n '4scS449npSaFolwj9b4RJD',\n '0yMoJXVP6hFLV71DRVxRTk',\n '2rKcC5vlTsDM94RWTPoyHV',\n '3o9JsjPISLo2T9rcXLDT0a',\n '33rh7azo556EGptA220qxT',\n '6NF2cF3kRFGqhAuqj17yzD',\n '58WOkUl3O9LvLZjdhiQvIX',\n '2lKA9bNdd4kAoeHiufa0aK',\n '0OtgQMnnZL5KVjpABf6SdR',\n '53jogSv23P6DFcOHcZrDs9',\n '1T8f6NtVBK3f4jcKgCjnvw',\n '44ADyYoY5liaRa3EOAl4uf',\n '1MrZ8hGkUWMmT816wPaMgE',\n '6wcWYONsa1wGcmhu3WX7SK',\n '0Rcm3eyf9ALtx69QUldYIf',\n '2O2ii9OPZYh1NBXo9FtE0Y',\n '78JmElAFmrPNhLjovDR9Jm',\n '1TWfkGrhF7ob0nwB2M6knb',\n '3BqqF8suAIzW8655yJfcvh',\n '4rylUVBblCUdmtDuYql6oI',\n '5Jno63iv0mzu5OZ28asYbE',\n '095MMFhB9qxPx2VsmvjnUs',\n '0NWPxcsf5vdjdiFUI8NgkP',\n '4rhQ89gUsCW5ig91qtoDSE',\n '6vsyag9kEPckt19NClSf51',\n '0KMGxYKeUzK9wc5DZCt3HT',\n '4ZkhFcoS3apzze9w2yI9NO',\n '2CvOqDpQIMw69cCzWqr5yr',\n '3cOO5IQtOYs7huq4Z6lYfr',\n '1iN1knAnE9tgY3FipGocKX',\n '26dOCdbA4tZIJh9pGOLuHx',\n '6vPAmoERUMRoTZaCCSWQ12',\n '6Q6YqGj1Ku1CUGHWSFwSHY',\n '6rROXfjFzQyH2w9FAiVkq7',\n '1d5UuboIPRMD4HaU3yycKC',\n '6Awg3vdlBZnLnVWBcyG0vW',\n '5U4wYRHrCRxRP6iQfM824C']"
     },
     "execution_count": 14,
     "metadata": {},
     "output_type": "execute_result"
    }
   ],
   "source": [
    "track_ids"
   ],
   "metadata": {
    "collapsed": false,
    "pycharm": {
     "name": "#%%\n"
    }
   }
  }
 ],
 "metadata": {
  "kernelspec": {
   "display_name": "Python 3",
   "language": "python",
   "name": "python3"
  },
  "language_info": {
   "codemirror_mode": {
    "name": "ipython",
    "version": 2
   },
   "file_extension": ".py",
   "mimetype": "text/x-python",
   "name": "python",
   "nbconvert_exporter": "python",
   "pygments_lexer": "ipython2",
   "version": "2.7.6"
  }
 },
 "nbformat": 4,
 "nbformat_minor": 0
}