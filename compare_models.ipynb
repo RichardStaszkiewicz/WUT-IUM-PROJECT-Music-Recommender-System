{
 "cells": [
  {
   "attachments": {},
   "cell_type": "markdown",
   "metadata": {},
   "source": [
    "# Comparison of the models\n",
    "Comparison is based on assessment via AB tests"
   ]
  },
  {
   "cell_type": "code",
   "execution_count": 1,
   "metadata": {},
   "outputs": [],
   "source": [
    "import pandas as pd"
   ]
  },
  {
   "cell_type": "code",
   "execution_count": 4,
   "metadata": {},
   "outputs": [],
   "source": [
    "AB_TESTS_RESULTS_FILEPATH = \"data/ab_results.csv\""
   ]
  },
  {
   "cell_type": "code",
   "execution_count": 5,
   "metadata": {},
   "outputs": [
    {
     "data": {
      "text/html": [
       "<div>\n",
       "<style scoped>\n",
       "    .dataframe tbody tr th:only-of-type {\n",
       "        vertical-align: middle;\n",
       "    }\n",
       "\n",
       "    .dataframe tbody tr th {\n",
       "        vertical-align: top;\n",
       "    }\n",
       "\n",
       "    .dataframe thead th {\n",
       "        text-align: right;\n",
       "    }\n",
       "</style>\n",
       "<table border=\"1\" class=\"dataframe\">\n",
       "  <thead>\n",
       "    <tr style=\"text-align: right;\">\n",
       "      <th></th>\n",
       "      <th>created_at</th>\n",
       "      <th>user_id</th>\n",
       "      <th>group</th>\n",
       "      <th>model</th>\n",
       "      <th>recomm_successful</th>\n",
       "    </tr>\n",
       "    <tr>\n",
       "      <th>index</th>\n",
       "      <th></th>\n",
       "      <th></th>\n",
       "      <th></th>\n",
       "      <th></th>\n",
       "      <th></th>\n",
       "    </tr>\n",
       "  </thead>\n",
       "  <tbody>\n",
       "    <tr>\n",
       "      <th>0</th>\n",
       "      <td>2023-06-04 07:58:48.704267</td>\n",
       "      <td>141</td>\n",
       "      <td>1</td>\n",
       "      <td>2</td>\n",
       "      <td>False</td>\n",
       "    </tr>\n",
       "    <tr>\n",
       "      <th>1</th>\n",
       "      <td>2023-06-04 07:58:52.539102</td>\n",
       "      <td>167</td>\n",
       "      <td>1</td>\n",
       "      <td>2</td>\n",
       "      <td>True</td>\n",
       "    </tr>\n",
       "    <tr>\n",
       "      <th>2</th>\n",
       "      <td>2023-06-04 07:58:54.589855</td>\n",
       "      <td>200</td>\n",
       "      <td>0</td>\n",
       "      <td>1</td>\n",
       "      <td>True</td>\n",
       "    </tr>\n",
       "    <tr>\n",
       "      <th>3</th>\n",
       "      <td>2023-06-04 07:58:56.019800</td>\n",
       "      <td>206</td>\n",
       "      <td>0</td>\n",
       "      <td>1</td>\n",
       "      <td>True</td>\n",
       "    </tr>\n",
       "    <tr>\n",
       "      <th>4</th>\n",
       "      <td>2023-06-04 07:58:59.099814</td>\n",
       "      <td>237</td>\n",
       "      <td>1</td>\n",
       "      <td>2</td>\n",
       "      <td>False</td>\n",
       "    </tr>\n",
       "  </tbody>\n",
       "</table>\n",
       "</div>"
      ],
      "text/plain": [
       "                       created_at  user_id  group  model  recomm_successful\n",
       "index                                                                      \n",
       "0      2023-06-04 07:58:48.704267      141      1      2              False\n",
       "1      2023-06-04 07:58:52.539102      167      1      2               True\n",
       "2      2023-06-04 07:58:54.589855      200      0      1               True\n",
       "3      2023-06-04 07:58:56.019800      206      0      1               True\n",
       "4      2023-06-04 07:58:59.099814      237      1      2              False"
      ]
     },
     "execution_count": 5,
     "metadata": {},
     "output_type": "execute_result"
    }
   ],
   "source": [
    "df_ab_tests = pd.read_csv(AB_TESTS_RESULTS_FILEPATH, index_col='index')\n",
    "df_ab_tests.head()"
   ]
  },
  {
   "cell_type": "code",
   "execution_count": 6,
   "metadata": {},
   "outputs": [],
   "source": [
    "model1 = df_ab_tests[df_ab_tests['model'] == 1]\n",
    "model2 = df_ab_tests[df_ab_tests['model'] == 2]"
   ]
  },
  {
   "cell_type": "code",
   "execution_count": 15,
   "metadata": {},
   "outputs": [],
   "source": [
    "def summarize_single_ab(model):\n",
    "    print(\"Sample size: \", len(model))\n",
    "    print(f\"Time period: {min(model['created_at'])} --- {max(model['created_at'])}\")\n",
    "    print(f\"Business criterium accuracy: {sum(model['recomm_successful'])/len(model) * 100}%\")"
   ]
  },
  {
   "cell_type": "code",
   "execution_count": 16,
   "metadata": {},
   "outputs": [
    {
     "name": "stdout",
     "output_type": "stream",
     "text": [
      "Model 1\n",
      "Sample size:  10\n",
      "Time period: 2023-06-04 07:58:54.589855 --- 2023-06-04 07:59:37.738747\n",
      "Business criterium accuracy: 70.0%\n",
      "\n",
      "\n",
      "Model 2\n",
      "Sample size:  10\n",
      "Time period: 2023-06-04 07:58:48.704267 --- 2023-06-04 07:59:40.123141\n",
      "Business criterium accuracy: 30.0%\n"
     ]
    }
   ],
   "source": [
    "print(\"Model 1\")\n",
    "summarize_single_ab(model1)\n",
    "\n",
    "print(\"\\n\\nModel 2\")\n",
    "summarize_single_ab(model2)"
   ]
  },
  {
   "cell_type": "code",
   "execution_count": null,
   "metadata": {},
   "outputs": [],
   "source": []
  }
 ],
 "metadata": {
  "kernelspec": {
   "display_name": "Python 3",
   "language": "python",
   "name": "python3"
  },
  "language_info": {
   "codemirror_mode": {
    "name": "ipython",
    "version": 3
   },
   "file_extension": ".py",
   "mimetype": "text/x-python",
   "name": "python",
   "nbconvert_exporter": "python",
   "pygments_lexer": "ipython3",
   "version": "3.8.5"
  },
  "orig_nbformat": 4
 },
 "nbformat": 4,
 "nbformat_minor": 2
}
