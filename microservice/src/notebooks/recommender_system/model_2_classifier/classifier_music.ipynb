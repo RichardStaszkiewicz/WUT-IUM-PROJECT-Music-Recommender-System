{
  "cells": [
    {
      "cell_type": "code",
      "execution_count": 1,
      "metadata": {
        "id": "h2YsyXE97Gxf"
      },
      "outputs": [],
      "source": [
        "import pandas as pd\n",
        "import numpy as np\n",
        "import torch\n",
        "import torch.nn as nn\n",
        "import torch.utils.data as data\n",
        "from sklearn.preprocessing import MinMaxScaler"
      ]
    },
    {
      "cell_type": "code",
      "execution_count": 2,
      "metadata": {
        "colab": {
          "base_uri": "https://localhost:8080/"
        },
        "id": "afqw-1w67Gxi",
        "outputId": "d3a9a68c-c760-4138-e90c-240be4159987"
      },
      "outputs": [
        {
          "data": {
            "text/plain": [
              "device(type='cuda')"
            ]
          },
          "execution_count": 2,
          "metadata": {},
          "output_type": "execute_result"
        }
      ],
      "source": [
        "device = torch.device('cpu') if not torch.cuda.is_available() else torch.device('cuda')\n",
        "device"
      ]
    },
    {
      "attachments": {},
      "cell_type": "markdown",
      "metadata": {
        "id": "W3PB1JAo7Gxi"
      },
      "source": [
        "## Data"
      ]
    },
    {
      "cell_type": "code",
      "execution_count": 3,
      "metadata": {
        "colab": {
          "base_uri": "https://localhost:8080/"
        },
        "id": "7TLetlp87OHH",
        "outputId": "72fd41ac-6ce1-4f84-d609-3cfa4c28c621"
      },
      "outputs": [
        {
          "name": "stdout",
          "output_type": "stream",
          "text": [
            "Mounted at /content/drive\n"
          ]
        }
      ],
      "source": [
        "from google.colab import drive\n",
        "drive.mount('/content/drive')"
      ]
    },
    {
      "cell_type": "code",
      "execution_count": 91,
      "metadata": {
        "id": "1Oe7oqAV7Gxj"
      },
      "outputs": [],
      "source": [
        "artists = pd.read_csv(\"/content/drive/MyDrive/Yoga/studia/semestr6/artists.csv\")\n",
        "tracks = pd.read_json(\"/content/drive/MyDrive/Yoga/studia/semestr6/tracks.json\")\n",
        "users = pd.read_json(\"/content/drive/MyDrive/Yoga/studia/semestr6/users.json\")\n",
        "sessions = pd.read_json(\"/content/drive/MyDrive/Yoga/studia/semestr6/sessions.json\")"
      ]
    },
    {
      "cell_type": "code",
      "execution_count": 92,
      "metadata": {
        "colab": {
          "base_uri": "https://localhost:8080/"
        },
        "id": "jLHp8uWtUTdA",
        "outputId": "8dc99853-de0a-46f3-c613-a88558beddc9"
      },
      "outputs": [
        {
          "data": {
            "text/plain": [
              "22412"
            ]
          },
          "execution_count": 92,
          "metadata": {},
          "output_type": "execute_result"
        }
      ],
      "source": [
        "select = sessions['track_id'].value_counts().to_frame()\n",
        "weights = [select.loc[i].to_numpy()[0] if i in select.index else 0 for i in tracks['id']]\n",
        "len(weights)"
      ]
    },
    {
      "cell_type": "code",
      "execution_count": 93,
      "metadata": {
        "id": "eZ4v_T1pAAYV"
      },
      "outputs": [],
      "source": [
        "tracks = tracks.sample(n = 250, weights=weights).reset_index(drop=True)"
      ]
    },
    {
      "cell_type": "code",
      "execution_count": 102,
      "metadata": {
        "id": "Yme6Q9b07Gxk"
      },
      "outputs": [],
      "source": [
        "track_ids = tracks.id\n",
        "VALID_COLUMN_NAMES = ['id', 'duration_ms', 'popularity', 'explicit', 'release_date','danceability', 'energy', 'key', 'loudness', 'speechiness', 'acousticness', 'instrumentalness', 'liveness', 'valence', 'tempo']\n",
        "tracks = tracks[VALID_COLUMN_NAMES]\n",
        "rd = tracks.release_date\n",
        "rd = pd.to_datetime(rd, errors='coerce')\n",
        "tracks['release_date'] = rd.dt.year.fillna(0).astype(int)"
      ]
    },
    {
      "cell_type": "code",
      "execution_count": 95,
      "metadata": {
        "id": "P0zH1fn3As1f"
      },
      "outputs": [],
      "source": [
        "users = users.sample(n = 500).reset_index(drop=True)"
      ]
    },
    {
      "cell_type": "code",
      "execution_count": 96,
      "metadata": {
        "id": "ISzEvUum7Gxk"
      },
      "outputs": [],
      "source": [
        "users = users.drop(columns=['name', 'city', 'street'])\n",
        "GENRES = np.unique(np.concatenate(users['favourite_genres'].to_numpy()))"
      ]
    },
    {
      "cell_type": "code",
      "execution_count": 97,
      "metadata": {
        "id": "bsssDUf57Gxl"
      },
      "outputs": [],
      "source": [
        "to_drop = sessions['event_type'] == 'skip'\n",
        "to_drop[len(to_drop)] = False\n",
        "to_drop = [ (to_drop[i+1] or to_drop[i]) for i in range(len(to_drop) - 1) ]\n",
        "to_drop = np.array(to_drop)\n",
        "to_drop += sessions['event_type'] == 'advertisment'\n",
        "to_drop = ~to_drop\n",
        "sessions = sessions[to_drop]"
      ]
    },
    {
      "cell_type": "code",
      "execution_count": 98,
      "metadata": {
        "colab": {
          "base_uri": "https://localhost:8080/",
          "height": 206
        },
        "id": "wECCYcZq7Gxl",
        "outputId": "664276c7-9df4-4c8d-96f8-e65e72f92603"
      },
      "outputs": [
        {
          "data": {
            "text/html": [
              "\n",
              "  <div id=\"df-29e02330-7bf9-4a5b-a1ac-fb467947cc51\">\n",
              "    <div class=\"colab-df-container\">\n",
              "      <div>\n",
              "<style scoped>\n",
              "    .dataframe tbody tr th:only-of-type {\n",
              "        vertical-align: middle;\n",
              "    }\n",
              "\n",
              "    .dataframe tbody tr th {\n",
              "        vertical-align: top;\n",
              "    }\n",
              "\n",
              "    .dataframe thead th {\n",
              "        text-align: right;\n",
              "    }\n",
              "</style>\n",
              "<table border=\"1\" class=\"dataframe\">\n",
              "  <thead>\n",
              "    <tr style=\"text-align: right;\">\n",
              "      <th></th>\n",
              "      <th>session_id</th>\n",
              "      <th>timestamp</th>\n",
              "      <th>user_id</th>\n",
              "      <th>track_id</th>\n",
              "      <th>event_type</th>\n",
              "    </tr>\n",
              "  </thead>\n",
              "  <tbody>\n",
              "    <tr>\n",
              "      <th>0</th>\n",
              "      <td>124</td>\n",
              "      <td>2021-11-18 10:40:38.000</td>\n",
              "      <td>101</td>\n",
              "      <td>7G67ZJRQT9nn2Fa9vA6B32</td>\n",
              "      <td>play</td>\n",
              "    </tr>\n",
              "    <tr>\n",
              "      <th>2</th>\n",
              "      <td>124</td>\n",
              "      <td>2021-11-18 10:41:48.495</td>\n",
              "      <td>101</td>\n",
              "      <td>7G67ZJRQT9nn2Fa9vA6B32</td>\n",
              "      <td>like</td>\n",
              "    </tr>\n",
              "    <tr>\n",
              "      <th>4</th>\n",
              "      <td>124</td>\n",
              "      <td>2021-11-18 10:46:00.240</td>\n",
              "      <td>101</td>\n",
              "      <td>6xagjcywpcyNFghafZPQJv</td>\n",
              "      <td>play</td>\n",
              "    </tr>\n",
              "    <tr>\n",
              "      <th>8</th>\n",
              "      <td>124</td>\n",
              "      <td>2021-11-18 10:47:54.348</td>\n",
              "      <td>101</td>\n",
              "      <td>70CYAL35X3T73qVStJNpZ2</td>\n",
              "      <td>play</td>\n",
              "    </tr>\n",
              "    <tr>\n",
              "      <th>9</th>\n",
              "      <td>124</td>\n",
              "      <td>2021-11-18 10:50:13.137</td>\n",
              "      <td>101</td>\n",
              "      <td>70CYAL35X3T73qVStJNpZ2</td>\n",
              "      <td>like</td>\n",
              "    </tr>\n",
              "  </tbody>\n",
              "</table>\n",
              "</div>\n",
              "      <button class=\"colab-df-convert\" onclick=\"convertToInteractive('df-29e02330-7bf9-4a5b-a1ac-fb467947cc51')\"\n",
              "              title=\"Convert this dataframe to an interactive table.\"\n",
              "              style=\"display:none;\">\n",
              "        \n",
              "  <svg xmlns=\"http://www.w3.org/2000/svg\" height=\"24px\"viewBox=\"0 0 24 24\"\n",
              "       width=\"24px\">\n",
              "    <path d=\"M0 0h24v24H0V0z\" fill=\"none\"/>\n",
              "    <path d=\"M18.56 5.44l.94 2.06.94-2.06 2.06-.94-2.06-.94-.94-2.06-.94 2.06-2.06.94zm-11 1L8.5 8.5l.94-2.06 2.06-.94-2.06-.94L8.5 2.5l-.94 2.06-2.06.94zm10 10l.94 2.06.94-2.06 2.06-.94-2.06-.94-.94-2.06-.94 2.06-2.06.94z\"/><path d=\"M17.41 7.96l-1.37-1.37c-.4-.4-.92-.59-1.43-.59-.52 0-1.04.2-1.43.59L10.3 9.45l-7.72 7.72c-.78.78-.78 2.05 0 2.83L4 21.41c.39.39.9.59 1.41.59.51 0 1.02-.2 1.41-.59l7.78-7.78 2.81-2.81c.8-.78.8-2.07 0-2.86zM5.41 20L4 18.59l7.72-7.72 1.47 1.35L5.41 20z\"/>\n",
              "  </svg>\n",
              "      </button>\n",
              "      \n",
              "  <style>\n",
              "    .colab-df-container {\n",
              "      display:flex;\n",
              "      flex-wrap:wrap;\n",
              "      gap: 12px;\n",
              "    }\n",
              "\n",
              "    .colab-df-convert {\n",
              "      background-color: #E8F0FE;\n",
              "      border: none;\n",
              "      border-radius: 50%;\n",
              "      cursor: pointer;\n",
              "      display: none;\n",
              "      fill: #1967D2;\n",
              "      height: 32px;\n",
              "      padding: 0 0 0 0;\n",
              "      width: 32px;\n",
              "    }\n",
              "\n",
              "    .colab-df-convert:hover {\n",
              "      background-color: #E2EBFA;\n",
              "      box-shadow: 0px 1px 2px rgba(60, 64, 67, 0.3), 0px 1px 3px 1px rgba(60, 64, 67, 0.15);\n",
              "      fill: #174EA6;\n",
              "    }\n",
              "\n",
              "    [theme=dark] .colab-df-convert {\n",
              "      background-color: #3B4455;\n",
              "      fill: #D2E3FC;\n",
              "    }\n",
              "\n",
              "    [theme=dark] .colab-df-convert:hover {\n",
              "      background-color: #434B5C;\n",
              "      box-shadow: 0px 1px 3px 1px rgba(0, 0, 0, 0.15);\n",
              "      filter: drop-shadow(0px 1px 2px rgba(0, 0, 0, 0.3));\n",
              "      fill: #FFFFFF;\n",
              "    }\n",
              "  </style>\n",
              "\n",
              "      <script>\n",
              "        const buttonEl =\n",
              "          document.querySelector('#df-29e02330-7bf9-4a5b-a1ac-fb467947cc51 button.colab-df-convert');\n",
              "        buttonEl.style.display =\n",
              "          google.colab.kernel.accessAllowed ? 'block' : 'none';\n",
              "\n",
              "        async function convertToInteractive(key) {\n",
              "          const element = document.querySelector('#df-29e02330-7bf9-4a5b-a1ac-fb467947cc51');\n",
              "          const dataTable =\n",
              "            await google.colab.kernel.invokeFunction('convertToInteractive',\n",
              "                                                     [key], {});\n",
              "          if (!dataTable) return;\n",
              "\n",
              "          const docLinkHtml = 'Like what you see? Visit the ' +\n",
              "            '<a target=\"_blank\" href=https://colab.research.google.com/notebooks/data_table.ipynb>data table notebook</a>'\n",
              "            + ' to learn more about interactive tables.';\n",
              "          element.innerHTML = '';\n",
              "          dataTable['output_type'] = 'display_data';\n",
              "          await google.colab.output.renderOutput(dataTable, element);\n",
              "          const docLink = document.createElement('div');\n",
              "          docLink.innerHTML = docLinkHtml;\n",
              "          element.appendChild(docLink);\n",
              "        }\n",
              "      </script>\n",
              "    </div>\n",
              "  </div>\n",
              "  "
            ],
            "text/plain": [
              "   session_id               timestamp  user_id                track_id  \\\n",
              "0         124 2021-11-18 10:40:38.000      101  7G67ZJRQT9nn2Fa9vA6B32   \n",
              "2         124 2021-11-18 10:41:48.495      101  7G67ZJRQT9nn2Fa9vA6B32   \n",
              "4         124 2021-11-18 10:46:00.240      101  6xagjcywpcyNFghafZPQJv   \n",
              "8         124 2021-11-18 10:47:54.348      101  70CYAL35X3T73qVStJNpZ2   \n",
              "9         124 2021-11-18 10:50:13.137      101  70CYAL35X3T73qVStJNpZ2   \n",
              "\n",
              "  event_type  \n",
              "0       play  \n",
              "2       like  \n",
              "4       play  \n",
              "8       play  \n",
              "9       like  "
            ]
          },
          "execution_count": 98,
          "metadata": {},
          "output_type": "execute_result"
        }
      ],
      "source": [
        "sessions.head()"
      ]
    },
    {
      "cell_type": "code",
      "execution_count": 99,
      "metadata": {
        "colab": {
          "base_uri": "https://localhost:8080/",
          "height": 206
        },
        "id": "jhD9lyMB7Gxm",
        "outputId": "57314d23-5e06-4c5a-c823-267f28065a76"
      },
      "outputs": [
        {
          "data": {
            "text/html": [
              "\n",
              "  <div id=\"df-c7de24c6-7f3a-4497-8eeb-4595dd888cac\">\n",
              "    <div class=\"colab-df-container\">\n",
              "      <div>\n",
              "<style scoped>\n",
              "    .dataframe tbody tr th:only-of-type {\n",
              "        vertical-align: middle;\n",
              "    }\n",
              "\n",
              "    .dataframe tbody tr th {\n",
              "        vertical-align: top;\n",
              "    }\n",
              "\n",
              "    .dataframe thead th {\n",
              "        text-align: right;\n",
              "    }\n",
              "</style>\n",
              "<table border=\"1\" class=\"dataframe\">\n",
              "  <thead>\n",
              "    <tr style=\"text-align: right;\">\n",
              "      <th></th>\n",
              "      <th>user_id</th>\n",
              "      <th>favourite_genres</th>\n",
              "      <th>premium_user</th>\n",
              "    </tr>\n",
              "  </thead>\n",
              "  <tbody>\n",
              "    <tr>\n",
              "      <th>0</th>\n",
              "      <td>288</td>\n",
              "      <td>[dance pop, french hip hop, pop rap]</td>\n",
              "      <td>False</td>\n",
              "    </tr>\n",
              "    <tr>\n",
              "      <th>1</th>\n",
              "      <td>963</td>\n",
              "      <td>[post-grunge, pop, uk pop]</td>\n",
              "      <td>True</td>\n",
              "    </tr>\n",
              "    <tr>\n",
              "      <th>2</th>\n",
              "      <td>543</td>\n",
              "      <td>[rock, corrido, adult standards]</td>\n",
              "      <td>False</td>\n",
              "    </tr>\n",
              "    <tr>\n",
              "      <th>3</th>\n",
              "      <td>974</td>\n",
              "      <td>[contemporary country, reggaeton, rock]</td>\n",
              "      <td>False</td>\n",
              "    </tr>\n",
              "    <tr>\n",
              "      <th>4</th>\n",
              "      <td>1023</td>\n",
              "      <td>[hip hop, mexican pop, pop punk]</td>\n",
              "      <td>False</td>\n",
              "    </tr>\n",
              "  </tbody>\n",
              "</table>\n",
              "</div>\n",
              "      <button class=\"colab-df-convert\" onclick=\"convertToInteractive('df-c7de24c6-7f3a-4497-8eeb-4595dd888cac')\"\n",
              "              title=\"Convert this dataframe to an interactive table.\"\n",
              "              style=\"display:none;\">\n",
              "        \n",
              "  <svg xmlns=\"http://www.w3.org/2000/svg\" height=\"24px\"viewBox=\"0 0 24 24\"\n",
              "       width=\"24px\">\n",
              "    <path d=\"M0 0h24v24H0V0z\" fill=\"none\"/>\n",
              "    <path d=\"M18.56 5.44l.94 2.06.94-2.06 2.06-.94-2.06-.94-.94-2.06-.94 2.06-2.06.94zm-11 1L8.5 8.5l.94-2.06 2.06-.94-2.06-.94L8.5 2.5l-.94 2.06-2.06.94zm10 10l.94 2.06.94-2.06 2.06-.94-2.06-.94-.94-2.06-.94 2.06-2.06.94z\"/><path d=\"M17.41 7.96l-1.37-1.37c-.4-.4-.92-.59-1.43-.59-.52 0-1.04.2-1.43.59L10.3 9.45l-7.72 7.72c-.78.78-.78 2.05 0 2.83L4 21.41c.39.39.9.59 1.41.59.51 0 1.02-.2 1.41-.59l7.78-7.78 2.81-2.81c.8-.78.8-2.07 0-2.86zM5.41 20L4 18.59l7.72-7.72 1.47 1.35L5.41 20z\"/>\n",
              "  </svg>\n",
              "      </button>\n",
              "      \n",
              "  <style>\n",
              "    .colab-df-container {\n",
              "      display:flex;\n",
              "      flex-wrap:wrap;\n",
              "      gap: 12px;\n",
              "    }\n",
              "\n",
              "    .colab-df-convert {\n",
              "      background-color: #E8F0FE;\n",
              "      border: none;\n",
              "      border-radius: 50%;\n",
              "      cursor: pointer;\n",
              "      display: none;\n",
              "      fill: #1967D2;\n",
              "      height: 32px;\n",
              "      padding: 0 0 0 0;\n",
              "      width: 32px;\n",
              "    }\n",
              "\n",
              "    .colab-df-convert:hover {\n",
              "      background-color: #E2EBFA;\n",
              "      box-shadow: 0px 1px 2px rgba(60, 64, 67, 0.3), 0px 1px 3px 1px rgba(60, 64, 67, 0.15);\n",
              "      fill: #174EA6;\n",
              "    }\n",
              "\n",
              "    [theme=dark] .colab-df-convert {\n",
              "      background-color: #3B4455;\n",
              "      fill: #D2E3FC;\n",
              "    }\n",
              "\n",
              "    [theme=dark] .colab-df-convert:hover {\n",
              "      background-color: #434B5C;\n",
              "      box-shadow: 0px 1px 3px 1px rgba(0, 0, 0, 0.15);\n",
              "      filter: drop-shadow(0px 1px 2px rgba(0, 0, 0, 0.3));\n",
              "      fill: #FFFFFF;\n",
              "    }\n",
              "  </style>\n",
              "\n",
              "      <script>\n",
              "        const buttonEl =\n",
              "          document.querySelector('#df-c7de24c6-7f3a-4497-8eeb-4595dd888cac button.colab-df-convert');\n",
              "        buttonEl.style.display =\n",
              "          google.colab.kernel.accessAllowed ? 'block' : 'none';\n",
              "\n",
              "        async function convertToInteractive(key) {\n",
              "          const element = document.querySelector('#df-c7de24c6-7f3a-4497-8eeb-4595dd888cac');\n",
              "          const dataTable =\n",
              "            await google.colab.kernel.invokeFunction('convertToInteractive',\n",
              "                                                     [key], {});\n",
              "          if (!dataTable) return;\n",
              "\n",
              "          const docLinkHtml = 'Like what you see? Visit the ' +\n",
              "            '<a target=\"_blank\" href=https://colab.research.google.com/notebooks/data_table.ipynb>data table notebook</a>'\n",
              "            + ' to learn more about interactive tables.';\n",
              "          element.innerHTML = '';\n",
              "          dataTable['output_type'] = 'display_data';\n",
              "          await google.colab.output.renderOutput(dataTable, element);\n",
              "          const docLink = document.createElement('div');\n",
              "          docLink.innerHTML = docLinkHtml;\n",
              "          element.appendChild(docLink);\n",
              "        }\n",
              "      </script>\n",
              "    </div>\n",
              "  </div>\n",
              "  "
            ],
            "text/plain": [
              "   user_id                         favourite_genres  premium_user\n",
              "0      288     [dance pop, french hip hop, pop rap]         False\n",
              "1      963               [post-grunge, pop, uk pop]          True\n",
              "2      543         [rock, corrido, adult standards]         False\n",
              "3      974  [contemporary country, reggaeton, rock]         False\n",
              "4     1023         [hip hop, mexican pop, pop punk]         False"
            ]
          },
          "execution_count": 99,
          "metadata": {},
          "output_type": "execute_result"
        }
      ],
      "source": [
        "# users = users[:10]\n",
        "users.head()\n"
      ]
    },
    {
      "cell_type": "code",
      "execution_count": 100,
      "metadata": {
        "colab": {
          "base_uri": "https://localhost:8080/",
          "height": 270
        },
        "id": "cubaa42AEZ-S",
        "outputId": "d3e32f5d-1a4c-4895-ef95-e9ff3e02c1d3"
      },
      "outputs": [
        {
          "data": {
            "text/html": [
              "\n",
              "  <div id=\"df-ae3683b3-b88d-4de9-a2de-cff61b726129\">\n",
              "    <div class=\"colab-df-container\">\n",
              "      <div>\n",
              "<style scoped>\n",
              "    .dataframe tbody tr th:only-of-type {\n",
              "        vertical-align: middle;\n",
              "    }\n",
              "\n",
              "    .dataframe tbody tr th {\n",
              "        vertical-align: top;\n",
              "    }\n",
              "\n",
              "    .dataframe thead th {\n",
              "        text-align: right;\n",
              "    }\n",
              "</style>\n",
              "<table border=\"1\" class=\"dataframe\">\n",
              "  <thead>\n",
              "    <tr style=\"text-align: right;\">\n",
              "      <th></th>\n",
              "      <th>id</th>\n",
              "      <th>duration_ms</th>\n",
              "      <th>popularity</th>\n",
              "      <th>explicit</th>\n",
              "      <th>release_date</th>\n",
              "      <th>danceability</th>\n",
              "      <th>energy</th>\n",
              "      <th>key</th>\n",
              "      <th>loudness</th>\n",
              "      <th>speechiness</th>\n",
              "      <th>acousticness</th>\n",
              "      <th>instrumentalness</th>\n",
              "      <th>liveness</th>\n",
              "      <th>valence</th>\n",
              "      <th>tempo</th>\n",
              "    </tr>\n",
              "  </thead>\n",
              "  <tbody>\n",
              "    <tr>\n",
              "      <th>0</th>\n",
              "      <td>6S91KdGvAQdUU8vNpqIte7</td>\n",
              "      <td>258000</td>\n",
              "      <td>61</td>\n",
              "      <td>0</td>\n",
              "      <td>2015</td>\n",
              "      <td>0.379</td>\n",
              "      <td>0.513</td>\n",
              "      <td>1</td>\n",
              "      <td>-7.724</td>\n",
              "      <td>0.0492</td>\n",
              "      <td>0.6430</td>\n",
              "      <td>0.000032</td>\n",
              "      <td>0.0690</td>\n",
              "      <td>0.1080</td>\n",
              "      <td>142.067</td>\n",
              "    </tr>\n",
              "    <tr>\n",
              "      <th>1</th>\n",
              "      <td>4pxHBdRmwqhiv2B5zy3KG3</td>\n",
              "      <td>267667</td>\n",
              "      <td>58</td>\n",
              "      <td>0</td>\n",
              "      <td>2007</td>\n",
              "      <td>0.623</td>\n",
              "      <td>0.587</td>\n",
              "      <td>0</td>\n",
              "      <td>-7.241</td>\n",
              "      <td>0.0275</td>\n",
              "      <td>0.5250</td>\n",
              "      <td>0.000345</td>\n",
              "      <td>0.1040</td>\n",
              "      <td>0.5380</td>\n",
              "      <td>121.983</td>\n",
              "    </tr>\n",
              "    <tr>\n",
              "      <th>2</th>\n",
              "      <td>6i1uWZYWabNHq2wQnoca58</td>\n",
              "      <td>298573</td>\n",
              "      <td>54</td>\n",
              "      <td>0</td>\n",
              "      <td>1989</td>\n",
              "      <td>0.666</td>\n",
              "      <td>0.884</td>\n",
              "      <td>9</td>\n",
              "      <td>-5.243</td>\n",
              "      <td>0.0429</td>\n",
              "      <td>0.5060</td>\n",
              "      <td>0.006120</td>\n",
              "      <td>0.0408</td>\n",
              "      <td>0.7540</td>\n",
              "      <td>92.005</td>\n",
              "    </tr>\n",
              "    <tr>\n",
              "      <th>3</th>\n",
              "      <td>0K8tOSa1LE1Ue784z6qwWZ</td>\n",
              "      <td>375507</td>\n",
              "      <td>52</td>\n",
              "      <td>0</td>\n",
              "      <td>1982</td>\n",
              "      <td>0.591</td>\n",
              "      <td>0.345</td>\n",
              "      <td>5</td>\n",
              "      <td>-14.058</td>\n",
              "      <td>0.0309</td>\n",
              "      <td>0.3370</td>\n",
              "      <td>0.061200</td>\n",
              "      <td>0.0862</td>\n",
              "      <td>0.0845</td>\n",
              "      <td>96.474</td>\n",
              "    </tr>\n",
              "    <tr>\n",
              "      <th>4</th>\n",
              "      <td>7xP1PzRNG24qpTWdtin1Gb</td>\n",
              "      <td>153373</td>\n",
              "      <td>52</td>\n",
              "      <td>0</td>\n",
              "      <td>2012</td>\n",
              "      <td>0.638</td>\n",
              "      <td>0.648</td>\n",
              "      <td>2</td>\n",
              "      <td>-6.436</td>\n",
              "      <td>0.0351</td>\n",
              "      <td>0.0896</td>\n",
              "      <td>0.000016</td>\n",
              "      <td>0.1410</td>\n",
              "      <td>0.2700</td>\n",
              "      <td>118.908</td>\n",
              "    </tr>\n",
              "  </tbody>\n",
              "</table>\n",
              "</div>\n",
              "      <button class=\"colab-df-convert\" onclick=\"convertToInteractive('df-ae3683b3-b88d-4de9-a2de-cff61b726129')\"\n",
              "              title=\"Convert this dataframe to an interactive table.\"\n",
              "              style=\"display:none;\">\n",
              "        \n",
              "  <svg xmlns=\"http://www.w3.org/2000/svg\" height=\"24px\"viewBox=\"0 0 24 24\"\n",
              "       width=\"24px\">\n",
              "    <path d=\"M0 0h24v24H0V0z\" fill=\"none\"/>\n",
              "    <path d=\"M18.56 5.44l.94 2.06.94-2.06 2.06-.94-2.06-.94-.94-2.06-.94 2.06-2.06.94zm-11 1L8.5 8.5l.94-2.06 2.06-.94-2.06-.94L8.5 2.5l-.94 2.06-2.06.94zm10 10l.94 2.06.94-2.06 2.06-.94-2.06-.94-.94-2.06-.94 2.06-2.06.94z\"/><path d=\"M17.41 7.96l-1.37-1.37c-.4-.4-.92-.59-1.43-.59-.52 0-1.04.2-1.43.59L10.3 9.45l-7.72 7.72c-.78.78-.78 2.05 0 2.83L4 21.41c.39.39.9.59 1.41.59.51 0 1.02-.2 1.41-.59l7.78-7.78 2.81-2.81c.8-.78.8-2.07 0-2.86zM5.41 20L4 18.59l7.72-7.72 1.47 1.35L5.41 20z\"/>\n",
              "  </svg>\n",
              "      </button>\n",
              "      \n",
              "  <style>\n",
              "    .colab-df-container {\n",
              "      display:flex;\n",
              "      flex-wrap:wrap;\n",
              "      gap: 12px;\n",
              "    }\n",
              "\n",
              "    .colab-df-convert {\n",
              "      background-color: #E8F0FE;\n",
              "      border: none;\n",
              "      border-radius: 50%;\n",
              "      cursor: pointer;\n",
              "      display: none;\n",
              "      fill: #1967D2;\n",
              "      height: 32px;\n",
              "      padding: 0 0 0 0;\n",
              "      width: 32px;\n",
              "    }\n",
              "\n",
              "    .colab-df-convert:hover {\n",
              "      background-color: #E2EBFA;\n",
              "      box-shadow: 0px 1px 2px rgba(60, 64, 67, 0.3), 0px 1px 3px 1px rgba(60, 64, 67, 0.15);\n",
              "      fill: #174EA6;\n",
              "    }\n",
              "\n",
              "    [theme=dark] .colab-df-convert {\n",
              "      background-color: #3B4455;\n",
              "      fill: #D2E3FC;\n",
              "    }\n",
              "\n",
              "    [theme=dark] .colab-df-convert:hover {\n",
              "      background-color: #434B5C;\n",
              "      box-shadow: 0px 1px 3px 1px rgba(0, 0, 0, 0.15);\n",
              "      filter: drop-shadow(0px 1px 2px rgba(0, 0, 0, 0.3));\n",
              "      fill: #FFFFFF;\n",
              "    }\n",
              "  </style>\n",
              "\n",
              "      <script>\n",
              "        const buttonEl =\n",
              "          document.querySelector('#df-ae3683b3-b88d-4de9-a2de-cff61b726129 button.colab-df-convert');\n",
              "        buttonEl.style.display =\n",
              "          google.colab.kernel.accessAllowed ? 'block' : 'none';\n",
              "\n",
              "        async function convertToInteractive(key) {\n",
              "          const element = document.querySelector('#df-ae3683b3-b88d-4de9-a2de-cff61b726129');\n",
              "          const dataTable =\n",
              "            await google.colab.kernel.invokeFunction('convertToInteractive',\n",
              "                                                     [key], {});\n",
              "          if (!dataTable) return;\n",
              "\n",
              "          const docLinkHtml = 'Like what you see? Visit the ' +\n",
              "            '<a target=\"_blank\" href=https://colab.research.google.com/notebooks/data_table.ipynb>data table notebook</a>'\n",
              "            + ' to learn more about interactive tables.';\n",
              "          element.innerHTML = '';\n",
              "          dataTable['output_type'] = 'display_data';\n",
              "          await google.colab.output.renderOutput(dataTable, element);\n",
              "          const docLink = document.createElement('div');\n",
              "          docLink.innerHTML = docLinkHtml;\n",
              "          element.appendChild(docLink);\n",
              "        }\n",
              "      </script>\n",
              "    </div>\n",
              "  </div>\n",
              "  "
            ],
            "text/plain": [
              "                       id  duration_ms  popularity  explicit  release_date  \\\n",
              "0  6S91KdGvAQdUU8vNpqIte7       258000          61         0          2015   \n",
              "1  4pxHBdRmwqhiv2B5zy3KG3       267667          58         0          2007   \n",
              "2  6i1uWZYWabNHq2wQnoca58       298573          54         0          1989   \n",
              "3  0K8tOSa1LE1Ue784z6qwWZ       375507          52         0          1982   \n",
              "4  7xP1PzRNG24qpTWdtin1Gb       153373          52         0          2012   \n",
              "\n",
              "   danceability  energy  key  loudness  speechiness  acousticness  \\\n",
              "0         0.379   0.513    1    -7.724       0.0492        0.6430   \n",
              "1         0.623   0.587    0    -7.241       0.0275        0.5250   \n",
              "2         0.666   0.884    9    -5.243       0.0429        0.5060   \n",
              "3         0.591   0.345    5   -14.058       0.0309        0.3370   \n",
              "4         0.638   0.648    2    -6.436       0.0351        0.0896   \n",
              "\n",
              "   instrumentalness  liveness  valence    tempo  \n",
              "0          0.000032    0.0690   0.1080  142.067  \n",
              "1          0.000345    0.1040   0.5380  121.983  \n",
              "2          0.006120    0.0408   0.7540   92.005  \n",
              "3          0.061200    0.0862   0.0845   96.474  \n",
              "4          0.000016    0.1410   0.2700  118.908  "
            ]
          },
          "execution_count": 100,
          "metadata": {},
          "output_type": "execute_result"
        }
      ],
      "source": [
        "tracks.head()"
      ]
    },
    {
      "cell_type": "code",
      "execution_count": 101,
      "metadata": {
        "colab": {
          "base_uri": "https://localhost:8080/",
          "height": 270
        },
        "id": "Ng3K1ziR7Gxn",
        "outputId": "8fcd057b-1669-4615-e92f-37994382cc60"
      },
      "outputs": [
        {
          "data": {
            "text/html": [
              "\n",
              "  <div id=\"df-1b04cd0b-c4f4-42f2-a5c4-32e20f3e1ffd\">\n",
              "    <div class=\"colab-df-container\">\n",
              "      <div>\n",
              "<style scoped>\n",
              "    .dataframe tbody tr th:only-of-type {\n",
              "        vertical-align: middle;\n",
              "    }\n",
              "\n",
              "    .dataframe tbody tr th {\n",
              "        vertical-align: top;\n",
              "    }\n",
              "\n",
              "    .dataframe thead th {\n",
              "        text-align: right;\n",
              "    }\n",
              "</style>\n",
              "<table border=\"1\" class=\"dataframe\">\n",
              "  <thead>\n",
              "    <tr style=\"text-align: right;\">\n",
              "      <th></th>\n",
              "      <th>duration_ms</th>\n",
              "      <th>popularity</th>\n",
              "      <th>explicit</th>\n",
              "      <th>release_date</th>\n",
              "      <th>danceability</th>\n",
              "      <th>energy</th>\n",
              "      <th>loudness</th>\n",
              "      <th>speechiness</th>\n",
              "      <th>acousticness</th>\n",
              "      <th>instrumentalness</th>\n",
              "      <th>liveness</th>\n",
              "      <th>valence</th>\n",
              "      <th>tempo</th>\n",
              "      <th>id</th>\n",
              "      <th>key</th>\n",
              "    </tr>\n",
              "  </thead>\n",
              "  <tbody>\n",
              "    <tr>\n",
              "      <th>0</th>\n",
              "      <td>0.228599</td>\n",
              "      <td>0.217391</td>\n",
              "      <td>0.0</td>\n",
              "      <td>0.894737</td>\n",
              "      <td>0.223841</td>\n",
              "      <td>0.506515</td>\n",
              "      <td>0.751629</td>\n",
              "      <td>0.060516</td>\n",
              "      <td>0.659486</td>\n",
              "      <td>0.000040</td>\n",
              "      <td>0.046900</td>\n",
              "      <td>0.064334</td>\n",
              "      <td>0.499970</td>\n",
              "      <td>6S91KdGvAQdUU8vNpqIte7</td>\n",
              "      <td>1</td>\n",
              "    </tr>\n",
              "    <tr>\n",
              "      <th>1</th>\n",
              "      <td>0.238318</td>\n",
              "      <td>0.152174</td>\n",
              "      <td>0.0</td>\n",
              "      <td>0.754386</td>\n",
              "      <td>0.547020</td>\n",
              "      <td>0.582436</td>\n",
              "      <td>0.768024</td>\n",
              "      <td>0.006696</td>\n",
              "      <td>0.538460</td>\n",
              "      <td>0.000427</td>\n",
              "      <td>0.084636</td>\n",
              "      <td>0.531624</td>\n",
              "      <td>0.350478</td>\n",
              "      <td>4pxHBdRmwqhiv2B5zy3KG3</td>\n",
              "      <td>0</td>\n",
              "    </tr>\n",
              "    <tr>\n",
              "      <th>2</th>\n",
              "      <td>0.269390</td>\n",
              "      <td>0.065217</td>\n",
              "      <td>0.0</td>\n",
              "      <td>0.438596</td>\n",
              "      <td>0.603974</td>\n",
              "      <td>0.887145</td>\n",
              "      <td>0.835845</td>\n",
              "      <td>0.044891</td>\n",
              "      <td>0.518973</td>\n",
              "      <td>0.007574</td>\n",
              "      <td>0.016496</td>\n",
              "      <td>0.766355</td>\n",
              "      <td>0.127341</td>\n",
              "      <td>6i1uWZYWabNHq2wQnoca58</td>\n",
              "      <td>9</td>\n",
              "    </tr>\n",
              "    <tr>\n",
              "      <th>3</th>\n",
              "      <td>0.346737</td>\n",
              "      <td>0.021739</td>\n",
              "      <td>0.0</td>\n",
              "      <td>0.315789</td>\n",
              "      <td>0.504636</td>\n",
              "      <td>0.334154</td>\n",
              "      <td>0.536626</td>\n",
              "      <td>0.015129</td>\n",
              "      <td>0.345639</td>\n",
              "      <td>0.075743</td>\n",
              "      <td>0.065445</td>\n",
              "      <td>0.038796</td>\n",
              "      <td>0.160605</td>\n",
              "      <td>0K8tOSa1LE1Ue784z6qwWZ</td>\n",
              "      <td>5</td>\n",
              "    </tr>\n",
              "    <tr>\n",
              "      <th>4</th>\n",
              "      <td>0.123410</td>\n",
              "      <td>0.021739</td>\n",
              "      <td>0.0</td>\n",
              "      <td>0.842105</td>\n",
              "      <td>0.566887</td>\n",
              "      <td>0.645019</td>\n",
              "      <td>0.795350</td>\n",
              "      <td>0.025546</td>\n",
              "      <td>0.091895</td>\n",
              "      <td>0.000020</td>\n",
              "      <td>0.124528</td>\n",
              "      <td>0.240383</td>\n",
              "      <td>0.327590</td>\n",
              "      <td>7xP1PzRNG24qpTWdtin1Gb</td>\n",
              "      <td>2</td>\n",
              "    </tr>\n",
              "  </tbody>\n",
              "</table>\n",
              "</div>\n",
              "      <button class=\"colab-df-convert\" onclick=\"convertToInteractive('df-1b04cd0b-c4f4-42f2-a5c4-32e20f3e1ffd')\"\n",
              "              title=\"Convert this dataframe to an interactive table.\"\n",
              "              style=\"display:none;\">\n",
              "        \n",
              "  <svg xmlns=\"http://www.w3.org/2000/svg\" height=\"24px\"viewBox=\"0 0 24 24\"\n",
              "       width=\"24px\">\n",
              "    <path d=\"M0 0h24v24H0V0z\" fill=\"none\"/>\n",
              "    <path d=\"M18.56 5.44l.94 2.06.94-2.06 2.06-.94-2.06-.94-.94-2.06-.94 2.06-2.06.94zm-11 1L8.5 8.5l.94-2.06 2.06-.94-2.06-.94L8.5 2.5l-.94 2.06-2.06.94zm10 10l.94 2.06.94-2.06 2.06-.94-2.06-.94-.94-2.06-.94 2.06-2.06.94z\"/><path d=\"M17.41 7.96l-1.37-1.37c-.4-.4-.92-.59-1.43-.59-.52 0-1.04.2-1.43.59L10.3 9.45l-7.72 7.72c-.78.78-.78 2.05 0 2.83L4 21.41c.39.39.9.59 1.41.59.51 0 1.02-.2 1.41-.59l7.78-7.78 2.81-2.81c.8-.78.8-2.07 0-2.86zM5.41 20L4 18.59l7.72-7.72 1.47 1.35L5.41 20z\"/>\n",
              "  </svg>\n",
              "      </button>\n",
              "      \n",
              "  <style>\n",
              "    .colab-df-container {\n",
              "      display:flex;\n",
              "      flex-wrap:wrap;\n",
              "      gap: 12px;\n",
              "    }\n",
              "\n",
              "    .colab-df-convert {\n",
              "      background-color: #E8F0FE;\n",
              "      border: none;\n",
              "      border-radius: 50%;\n",
              "      cursor: pointer;\n",
              "      display: none;\n",
              "      fill: #1967D2;\n",
              "      height: 32px;\n",
              "      padding: 0 0 0 0;\n",
              "      width: 32px;\n",
              "    }\n",
              "\n",
              "    .colab-df-convert:hover {\n",
              "      background-color: #E2EBFA;\n",
              "      box-shadow: 0px 1px 2px rgba(60, 64, 67, 0.3), 0px 1px 3px 1px rgba(60, 64, 67, 0.15);\n",
              "      fill: #174EA6;\n",
              "    }\n",
              "\n",
              "    [theme=dark] .colab-df-convert {\n",
              "      background-color: #3B4455;\n",
              "      fill: #D2E3FC;\n",
              "    }\n",
              "\n",
              "    [theme=dark] .colab-df-convert:hover {\n",
              "      background-color: #434B5C;\n",
              "      box-shadow: 0px 1px 3px 1px rgba(0, 0, 0, 0.15);\n",
              "      filter: drop-shadow(0px 1px 2px rgba(0, 0, 0, 0.3));\n",
              "      fill: #FFFFFF;\n",
              "    }\n",
              "  </style>\n",
              "\n",
              "      <script>\n",
              "        const buttonEl =\n",
              "          document.querySelector('#df-1b04cd0b-c4f4-42f2-a5c4-32e20f3e1ffd button.colab-df-convert');\n",
              "        buttonEl.style.display =\n",
              "          google.colab.kernel.accessAllowed ? 'block' : 'none';\n",
              "\n",
              "        async function convertToInteractive(key) {\n",
              "          const element = document.querySelector('#df-1b04cd0b-c4f4-42f2-a5c4-32e20f3e1ffd');\n",
              "          const dataTable =\n",
              "            await google.colab.kernel.invokeFunction('convertToInteractive',\n",
              "                                                     [key], {});\n",
              "          if (!dataTable) return;\n",
              "\n",
              "          const docLinkHtml = 'Like what you see? Visit the ' +\n",
              "            '<a target=\"_blank\" href=https://colab.research.google.com/notebooks/data_table.ipynb>data table notebook</a>'\n",
              "            + ' to learn more about interactive tables.';\n",
              "          element.innerHTML = '';\n",
              "          dataTable['output_type'] = 'display_data';\n",
              "          await google.colab.output.renderOutput(dataTable, element);\n",
              "          const docLink = document.createElement('div');\n",
              "          docLink.innerHTML = docLinkHtml;\n",
              "          element.appendChild(docLink);\n",
              "        }\n",
              "      </script>\n",
              "    </div>\n",
              "  </div>\n",
              "  "
            ],
            "text/plain": [
              "   duration_ms  popularity  explicit  release_date  danceability    energy  \\\n",
              "0     0.228599    0.217391       0.0      0.894737      0.223841  0.506515   \n",
              "1     0.238318    0.152174       0.0      0.754386      0.547020  0.582436   \n",
              "2     0.269390    0.065217       0.0      0.438596      0.603974  0.887145   \n",
              "3     0.346737    0.021739       0.0      0.315789      0.504636  0.334154   \n",
              "4     0.123410    0.021739       0.0      0.842105      0.566887  0.645019   \n",
              "\n",
              "   loudness  speechiness  acousticness  instrumentalness  liveness   valence  \\\n",
              "0  0.751629     0.060516      0.659486          0.000040  0.046900  0.064334   \n",
              "1  0.768024     0.006696      0.538460          0.000427  0.084636  0.531624   \n",
              "2  0.835845     0.044891      0.518973          0.007574  0.016496  0.766355   \n",
              "3  0.536626     0.015129      0.345639          0.075743  0.065445  0.038796   \n",
              "4  0.795350     0.025546      0.091895          0.000020  0.124528  0.240383   \n",
              "\n",
              "      tempo                      id  key  \n",
              "0  0.499970  6S91KdGvAQdUU8vNpqIte7    1  \n",
              "1  0.350478  4pxHBdRmwqhiv2B5zy3KG3    0  \n",
              "2  0.127341  6i1uWZYWabNHq2wQnoca58    9  \n",
              "3  0.160605  0K8tOSa1LE1Ue784z6qwWZ    5  \n",
              "4  0.327590  7xP1PzRNG24qpTWdtin1Gb    2  "
            ]
          },
          "execution_count": 101,
          "metadata": {},
          "output_type": "execute_result"
        }
      ],
      "source": [
        "track_keys = tracks['key']\n",
        "tracks_scaler = MinMaxScaler()\n",
        "tracks_scaler.fit(tracks.drop(columns=['id', 'key']))\n",
        "tracks = tracks_scaler.transform(tracks.drop(columns=['id', 'key']))\n",
        "tracks = pd.DataFrame(tracks, columns=['duration_ms', 'popularity', 'explicit', 'release_date','danceability', 'energy', 'loudness', 'speechiness', 'acousticness', 'instrumentalness', 'liveness', 'valence', 'tempo'])\n",
        "tracks['id'] = track_ids\n",
        "tracks['key'] = track_keys\n",
        "tracks.head()"
      ]
    },
    {
      "attachments": {},
      "cell_type": "markdown",
      "metadata": {
        "id": "S_djy8ry7Gxn"
      },
      "source": [
        "## Model"
      ]
    },
    {
      "attachments": {},
      "cell_type": "markdown",
      "metadata": {
        "id": "f_pBDki57Gxo"
      },
      "source": [
        "Classifier input: <br>\n",
        "    1. Track Desccription (12 numerical + 2 categorical giving 16 one-hots + 1 binary) <br>\n",
        "    2. User Description (2 categorical giving 50 one-hots + 1 binary) <br>\n",
        "    3. Music Fingerprint (5 categorical giving 5x50 one-hots) <br>\n",
        "Classifier output: <br>\n",
        "    1. P(User will listen whole track) <br>\n",
        "    2. P(User will like the track) <br>\n",
        "    3. P(Track is similar to fingerprint) <br>"
      ]
    },
    {
      "cell_type": "code",
      "execution_count": 14,
      "metadata": {
        "colab": {
          "base_uri": "https://localhost:8080/",
          "height": 433
        },
        "id": "jOv9QrTE7Gxo",
        "outputId": "7b66ba94-4906-468d-ba71-fdea31161d3f"
      },
      "outputs": [
        {
          "ename": "KeyError",
          "evalue": "ignored",
          "output_type": "error",
          "traceback": [
            "\u001b[0;31m---------------------------------------------------------------------------\u001b[0m",
            "\u001b[0;31mValueError\u001b[0m                                Traceback (most recent call last)",
            "\u001b[0;32m/usr/local/lib/python3.10/dist-packages/pandas/core/indexes/range.py\u001b[0m in \u001b[0;36mget_loc\u001b[0;34m(self, key, method, tolerance)\u001b[0m\n\u001b[1;32m    390\u001b[0m                 \u001b[0;32mtry\u001b[0m\u001b[0;34m:\u001b[0m\u001b[0;34m\u001b[0m\u001b[0;34m\u001b[0m\u001b[0m\n\u001b[0;32m--> 391\u001b[0;31m                     \u001b[0;32mreturn\u001b[0m \u001b[0mself\u001b[0m\u001b[0;34m.\u001b[0m\u001b[0m_range\u001b[0m\u001b[0;34m.\u001b[0m\u001b[0mindex\u001b[0m\u001b[0;34m(\u001b[0m\u001b[0mnew_key\u001b[0m\u001b[0;34m)\u001b[0m\u001b[0;34m\u001b[0m\u001b[0;34m\u001b[0m\u001b[0m\n\u001b[0m\u001b[1;32m    392\u001b[0m                 \u001b[0;32mexcept\u001b[0m \u001b[0mValueError\u001b[0m \u001b[0;32mas\u001b[0m \u001b[0merr\u001b[0m\u001b[0;34m:\u001b[0m\u001b[0;34m\u001b[0m\u001b[0;34m\u001b[0m\u001b[0m\n",
            "\u001b[0;31mValueError\u001b[0m: 640 is not in range",
            "\nThe above exception was the direct cause of the following exception:\n",
            "\u001b[0;31mKeyError\u001b[0m                                  Traceback (most recent call last)",
            "\u001b[0;32m<ipython-input-14-5abe17534a9f>\u001b[0m in \u001b[0;36m<cell line: 2>\u001b[0;34m()\u001b[0m\n\u001b[1;32m      1\u001b[0m \u001b[0mu\u001b[0m \u001b[0;34m=\u001b[0m \u001b[0musers\u001b[0m\u001b[0;34m.\u001b[0m\u001b[0mloc\u001b[0m\u001b[0;34m[\u001b[0m\u001b[0;36m1\u001b[0m\u001b[0;34m]\u001b[0m\u001b[0;34m\u001b[0m\u001b[0;34m\u001b[0m\u001b[0m\n\u001b[0;32m----> 2\u001b[0;31m \u001b[0mt\u001b[0m \u001b[0;34m=\u001b[0m \u001b[0mtracks\u001b[0m\u001b[0;34m.\u001b[0m\u001b[0mloc\u001b[0m\u001b[0;34m[\u001b[0m\u001b[0;36m640\u001b[0m\u001b[0;34m]\u001b[0m \u001b[0;31m# 640 play // 8428 like\u001b[0m\u001b[0;34m\u001b[0m\u001b[0;34m\u001b[0m\u001b[0m\n\u001b[0m\u001b[1;32m      3\u001b[0m \u001b[0mselect\u001b[0m \u001b[0;34m=\u001b[0m \u001b[0msessions\u001b[0m\u001b[0;34m[\u001b[0m\u001b[0mu\u001b[0m\u001b[0;34m[\u001b[0m\u001b[0;34m'user_id'\u001b[0m\u001b[0;34m]\u001b[0m \u001b[0;34m==\u001b[0m \u001b[0msessions\u001b[0m\u001b[0;34m[\u001b[0m\u001b[0;34m'user_id'\u001b[0m\u001b[0;34m]\u001b[0m\u001b[0;34m]\u001b[0m\u001b[0;34m\u001b[0m\u001b[0;34m\u001b[0m\u001b[0m\n\u001b[1;32m      4\u001b[0m \u001b[0mselect\u001b[0m \u001b[0;34m=\u001b[0m \u001b[0mselect\u001b[0m\u001b[0;34m[\u001b[0m\u001b[0mt\u001b[0m\u001b[0;34m[\u001b[0m\u001b[0;34m'id'\u001b[0m\u001b[0;34m]\u001b[0m \u001b[0;34m==\u001b[0m \u001b[0mselect\u001b[0m\u001b[0;34m[\u001b[0m\u001b[0;34m'track_id'\u001b[0m\u001b[0;34m]\u001b[0m\u001b[0;34m]\u001b[0m\u001b[0;34m\u001b[0m\u001b[0;34m\u001b[0m\u001b[0m\n\u001b[1;32m      5\u001b[0m \u001b[0mplay\u001b[0m \u001b[0;34m=\u001b[0m \u001b[0mbool\u001b[0m\u001b[0;34m(\u001b[0m\u001b[0msum\u001b[0m\u001b[0;34m(\u001b[0m\u001b[0mselect\u001b[0m\u001b[0;34m[\u001b[0m\u001b[0;34m'event_type'\u001b[0m\u001b[0;34m]\u001b[0m \u001b[0;34m==\u001b[0m \u001b[0;34m'play'\u001b[0m\u001b[0;34m)\u001b[0m\u001b[0;34m)\u001b[0m\u001b[0;34m\u001b[0m\u001b[0;34m\u001b[0m\u001b[0m\n",
            "\u001b[0;32m/usr/local/lib/python3.10/dist-packages/pandas/core/indexing.py\u001b[0m in \u001b[0;36m__getitem__\u001b[0;34m(self, key)\u001b[0m\n\u001b[1;32m   1071\u001b[0m \u001b[0;34m\u001b[0m\u001b[0m\n\u001b[1;32m   1072\u001b[0m             \u001b[0mmaybe_callable\u001b[0m \u001b[0;34m=\u001b[0m \u001b[0mcom\u001b[0m\u001b[0;34m.\u001b[0m\u001b[0mapply_if_callable\u001b[0m\u001b[0;34m(\u001b[0m\u001b[0mkey\u001b[0m\u001b[0;34m,\u001b[0m \u001b[0mself\u001b[0m\u001b[0;34m.\u001b[0m\u001b[0mobj\u001b[0m\u001b[0;34m)\u001b[0m\u001b[0;34m\u001b[0m\u001b[0;34m\u001b[0m\u001b[0m\n\u001b[0;32m-> 1073\u001b[0;31m             \u001b[0;32mreturn\u001b[0m \u001b[0mself\u001b[0m\u001b[0;34m.\u001b[0m\u001b[0m_getitem_axis\u001b[0m\u001b[0;34m(\u001b[0m\u001b[0mmaybe_callable\u001b[0m\u001b[0;34m,\u001b[0m \u001b[0maxis\u001b[0m\u001b[0;34m=\u001b[0m\u001b[0maxis\u001b[0m\u001b[0;34m)\u001b[0m\u001b[0;34m\u001b[0m\u001b[0;34m\u001b[0m\u001b[0m\n\u001b[0m\u001b[1;32m   1074\u001b[0m \u001b[0;34m\u001b[0m\u001b[0m\n\u001b[1;32m   1075\u001b[0m     \u001b[0;32mdef\u001b[0m \u001b[0m_is_scalar_access\u001b[0m\u001b[0;34m(\u001b[0m\u001b[0mself\u001b[0m\u001b[0;34m,\u001b[0m \u001b[0mkey\u001b[0m\u001b[0;34m:\u001b[0m \u001b[0mtuple\u001b[0m\u001b[0;34m)\u001b[0m\u001b[0;34m:\u001b[0m\u001b[0;34m\u001b[0m\u001b[0;34m\u001b[0m\u001b[0m\n",
            "\u001b[0;32m/usr/local/lib/python3.10/dist-packages/pandas/core/indexing.py\u001b[0m in \u001b[0;36m_getitem_axis\u001b[0;34m(self, key, axis)\u001b[0m\n\u001b[1;32m   1310\u001b[0m         \u001b[0;31m# fall thru to straight lookup\u001b[0m\u001b[0;34m\u001b[0m\u001b[0;34m\u001b[0m\u001b[0m\n\u001b[1;32m   1311\u001b[0m         \u001b[0mself\u001b[0m\u001b[0;34m.\u001b[0m\u001b[0m_validate_key\u001b[0m\u001b[0;34m(\u001b[0m\u001b[0mkey\u001b[0m\u001b[0;34m,\u001b[0m \u001b[0maxis\u001b[0m\u001b[0;34m)\u001b[0m\u001b[0;34m\u001b[0m\u001b[0;34m\u001b[0m\u001b[0m\n\u001b[0;32m-> 1312\u001b[0;31m         \u001b[0;32mreturn\u001b[0m \u001b[0mself\u001b[0m\u001b[0;34m.\u001b[0m\u001b[0m_get_label\u001b[0m\u001b[0;34m(\u001b[0m\u001b[0mkey\u001b[0m\u001b[0;34m,\u001b[0m \u001b[0maxis\u001b[0m\u001b[0;34m=\u001b[0m\u001b[0maxis\u001b[0m\u001b[0;34m)\u001b[0m\u001b[0;34m\u001b[0m\u001b[0;34m\u001b[0m\u001b[0m\n\u001b[0m\u001b[1;32m   1313\u001b[0m \u001b[0;34m\u001b[0m\u001b[0m\n\u001b[1;32m   1314\u001b[0m     \u001b[0;32mdef\u001b[0m \u001b[0m_get_slice_axis\u001b[0m\u001b[0;34m(\u001b[0m\u001b[0mself\u001b[0m\u001b[0;34m,\u001b[0m \u001b[0mslice_obj\u001b[0m\u001b[0;34m:\u001b[0m \u001b[0mslice\u001b[0m\u001b[0;34m,\u001b[0m \u001b[0maxis\u001b[0m\u001b[0;34m:\u001b[0m \u001b[0mint\u001b[0m\u001b[0;34m)\u001b[0m\u001b[0;34m:\u001b[0m\u001b[0;34m\u001b[0m\u001b[0;34m\u001b[0m\u001b[0m\n",
            "\u001b[0;32m/usr/local/lib/python3.10/dist-packages/pandas/core/indexing.py\u001b[0m in \u001b[0;36m_get_label\u001b[0;34m(self, label, axis)\u001b[0m\n\u001b[1;32m   1258\u001b[0m     \u001b[0;32mdef\u001b[0m \u001b[0m_get_label\u001b[0m\u001b[0;34m(\u001b[0m\u001b[0mself\u001b[0m\u001b[0;34m,\u001b[0m \u001b[0mlabel\u001b[0m\u001b[0;34m,\u001b[0m \u001b[0maxis\u001b[0m\u001b[0;34m:\u001b[0m \u001b[0mint\u001b[0m\u001b[0;34m)\u001b[0m\u001b[0;34m:\u001b[0m\u001b[0;34m\u001b[0m\u001b[0;34m\u001b[0m\u001b[0m\n\u001b[1;32m   1259\u001b[0m         \u001b[0;31m# GH#5567 this will fail if the label is not present in the axis.\u001b[0m\u001b[0;34m\u001b[0m\u001b[0;34m\u001b[0m\u001b[0m\n\u001b[0;32m-> 1260\u001b[0;31m         \u001b[0;32mreturn\u001b[0m \u001b[0mself\u001b[0m\u001b[0;34m.\u001b[0m\u001b[0mobj\u001b[0m\u001b[0;34m.\u001b[0m\u001b[0mxs\u001b[0m\u001b[0;34m(\u001b[0m\u001b[0mlabel\u001b[0m\u001b[0;34m,\u001b[0m \u001b[0maxis\u001b[0m\u001b[0;34m=\u001b[0m\u001b[0maxis\u001b[0m\u001b[0;34m)\u001b[0m\u001b[0;34m\u001b[0m\u001b[0;34m\u001b[0m\u001b[0m\n\u001b[0m\u001b[1;32m   1261\u001b[0m \u001b[0;34m\u001b[0m\u001b[0m\n\u001b[1;32m   1262\u001b[0m     \u001b[0;32mdef\u001b[0m \u001b[0m_handle_lowerdim_multi_index_axis0\u001b[0m\u001b[0;34m(\u001b[0m\u001b[0mself\u001b[0m\u001b[0;34m,\u001b[0m \u001b[0mtup\u001b[0m\u001b[0;34m:\u001b[0m \u001b[0mtuple\u001b[0m\u001b[0;34m)\u001b[0m\u001b[0;34m:\u001b[0m\u001b[0;34m\u001b[0m\u001b[0;34m\u001b[0m\u001b[0m\n",
            "\u001b[0;32m/usr/local/lib/python3.10/dist-packages/pandas/core/generic.py\u001b[0m in \u001b[0;36mxs\u001b[0;34m(self, key, axis, level, drop_level)\u001b[0m\n\u001b[1;32m   4054\u001b[0m                     \u001b[0mnew_index\u001b[0m \u001b[0;34m=\u001b[0m \u001b[0mindex\u001b[0m\u001b[0;34m[\u001b[0m\u001b[0mloc\u001b[0m\u001b[0;34m]\u001b[0m\u001b[0;34m\u001b[0m\u001b[0;34m\u001b[0m\u001b[0m\n\u001b[1;32m   4055\u001b[0m         \u001b[0;32melse\u001b[0m\u001b[0;34m:\u001b[0m\u001b[0;34m\u001b[0m\u001b[0;34m\u001b[0m\u001b[0m\n\u001b[0;32m-> 4056\u001b[0;31m             \u001b[0mloc\u001b[0m \u001b[0;34m=\u001b[0m \u001b[0mindex\u001b[0m\u001b[0;34m.\u001b[0m\u001b[0mget_loc\u001b[0m\u001b[0;34m(\u001b[0m\u001b[0mkey\u001b[0m\u001b[0;34m)\u001b[0m\u001b[0;34m\u001b[0m\u001b[0;34m\u001b[0m\u001b[0m\n\u001b[0m\u001b[1;32m   4057\u001b[0m \u001b[0;34m\u001b[0m\u001b[0m\n\u001b[1;32m   4058\u001b[0m             \u001b[0;32mif\u001b[0m \u001b[0misinstance\u001b[0m\u001b[0;34m(\u001b[0m\u001b[0mloc\u001b[0m\u001b[0;34m,\u001b[0m \u001b[0mnp\u001b[0m\u001b[0;34m.\u001b[0m\u001b[0mndarray\u001b[0m\u001b[0;34m)\u001b[0m\u001b[0;34m:\u001b[0m\u001b[0;34m\u001b[0m\u001b[0;34m\u001b[0m\u001b[0m\n",
            "\u001b[0;32m/usr/local/lib/python3.10/dist-packages/pandas/core/indexes/range.py\u001b[0m in \u001b[0;36mget_loc\u001b[0;34m(self, key, method, tolerance)\u001b[0m\n\u001b[1;32m    391\u001b[0m                     \u001b[0;32mreturn\u001b[0m \u001b[0mself\u001b[0m\u001b[0;34m.\u001b[0m\u001b[0m_range\u001b[0m\u001b[0;34m.\u001b[0m\u001b[0mindex\u001b[0m\u001b[0;34m(\u001b[0m\u001b[0mnew_key\u001b[0m\u001b[0;34m)\u001b[0m\u001b[0;34m\u001b[0m\u001b[0;34m\u001b[0m\u001b[0m\n\u001b[1;32m    392\u001b[0m                 \u001b[0;32mexcept\u001b[0m \u001b[0mValueError\u001b[0m \u001b[0;32mas\u001b[0m \u001b[0merr\u001b[0m\u001b[0;34m:\u001b[0m\u001b[0;34m\u001b[0m\u001b[0;34m\u001b[0m\u001b[0m\n\u001b[0;32m--> 393\u001b[0;31m                     \u001b[0;32mraise\u001b[0m \u001b[0mKeyError\u001b[0m\u001b[0;34m(\u001b[0m\u001b[0mkey\u001b[0m\u001b[0;34m)\u001b[0m \u001b[0;32mfrom\u001b[0m \u001b[0merr\u001b[0m\u001b[0;34m\u001b[0m\u001b[0;34m\u001b[0m\u001b[0m\n\u001b[0m\u001b[1;32m    394\u001b[0m             \u001b[0mself\u001b[0m\u001b[0;34m.\u001b[0m\u001b[0m_check_indexing_error\u001b[0m\u001b[0;34m(\u001b[0m\u001b[0mkey\u001b[0m\u001b[0;34m)\u001b[0m\u001b[0;34m\u001b[0m\u001b[0;34m\u001b[0m\u001b[0m\n\u001b[1;32m    395\u001b[0m             \u001b[0;32mraise\u001b[0m \u001b[0mKeyError\u001b[0m\u001b[0;34m(\u001b[0m\u001b[0mkey\u001b[0m\u001b[0;34m)\u001b[0m\u001b[0;34m\u001b[0m\u001b[0;34m\u001b[0m\u001b[0m\n",
            "\u001b[0;31mKeyError\u001b[0m: 640"
          ]
        }
      ],
      "source": [
        "# u = users.loc[1]\n",
        "# t = tracks.loc[640] # 640 play // 8428 like\n",
        "# select = sessions[u['user_id'] == sessions['user_id']]\n",
        "# select = select[t['id'] == select['track_id']]\n",
        "# play = bool(sum(select['event_type'] == 'play'))\n",
        "# like = bool(sum(select['event_type'] == 'like'))\n",
        "# ug = u['favourite_genres']\n",
        "# ug = torch.Tensor(np.array([i in ug for i in GENRES]) * 1)\n",
        "# ur = torch.Tensor([u['premium_user'] * 1])\n",
        "# tk = torch.Tensor([int(i == t['key']) for i in range(16)])\n",
        "# tr = torch.Tensor(t.drop(labels=['id', 'key']).to_numpy().astype(np.float64))\n",
        "# [[ug, ur], [tk, tr]], [play, like]"
      ]
    },
    {
      "cell_type": "code",
      "execution_count": 15,
      "metadata": {
        "colab": {
          "base_uri": "https://localhost:8080/",
          "height": 79
        },
        "id": "fdB-IoS87Gxo",
        "outputId": "7d75e822-6b9d-482c-a67a-1834078aa03d"
      },
      "outputs": [
        {
          "data": {
            "text/html": [
              "\n",
              "  <div id=\"df-1c3768e0-3724-411f-ba76-a17286da5323\">\n",
              "    <div class=\"colab-df-container\">\n",
              "      <div>\n",
              "<style scoped>\n",
              "    .dataframe tbody tr th:only-of-type {\n",
              "        vertical-align: middle;\n",
              "    }\n",
              "\n",
              "    .dataframe tbody tr th {\n",
              "        vertical-align: top;\n",
              "    }\n",
              "\n",
              "    .dataframe thead th {\n",
              "        text-align: right;\n",
              "    }\n",
              "</style>\n",
              "<table border=\"1\" class=\"dataframe\">\n",
              "  <thead>\n",
              "    <tr style=\"text-align: right;\">\n",
              "      <th></th>\n",
              "      <th>duration_ms</th>\n",
              "      <th>popularity</th>\n",
              "      <th>explicit</th>\n",
              "      <th>release_date</th>\n",
              "      <th>danceability</th>\n",
              "      <th>...</th>\n",
              "      <th>liveness</th>\n",
              "      <th>valence</th>\n",
              "      <th>tempo</th>\n",
              "      <th>id</th>\n",
              "      <th>key</th>\n",
              "    </tr>\n",
              "  </thead>\n",
              "  <tbody>\n",
              "  </tbody>\n",
              "</table>\n",
              "<p>0 rows × 15 columns</p>\n",
              "</div>\n",
              "      <button class=\"colab-df-convert\" onclick=\"convertToInteractive('df-1c3768e0-3724-411f-ba76-a17286da5323')\"\n",
              "              title=\"Convert this dataframe to an interactive table.\"\n",
              "              style=\"display:none;\">\n",
              "        \n",
              "  <svg xmlns=\"http://www.w3.org/2000/svg\" height=\"24px\"viewBox=\"0 0 24 24\"\n",
              "       width=\"24px\">\n",
              "    <path d=\"M0 0h24v24H0V0z\" fill=\"none\"/>\n",
              "    <path d=\"M18.56 5.44l.94 2.06.94-2.06 2.06-.94-2.06-.94-.94-2.06-.94 2.06-2.06.94zm-11 1L8.5 8.5l.94-2.06 2.06-.94-2.06-.94L8.5 2.5l-.94 2.06-2.06.94zm10 10l.94 2.06.94-2.06 2.06-.94-2.06-.94-.94-2.06-.94 2.06-2.06.94z\"/><path d=\"M17.41 7.96l-1.37-1.37c-.4-.4-.92-.59-1.43-.59-.52 0-1.04.2-1.43.59L10.3 9.45l-7.72 7.72c-.78.78-.78 2.05 0 2.83L4 21.41c.39.39.9.59 1.41.59.51 0 1.02-.2 1.41-.59l7.78-7.78 2.81-2.81c.8-.78.8-2.07 0-2.86zM5.41 20L4 18.59l7.72-7.72 1.47 1.35L5.41 20z\"/>\n",
              "  </svg>\n",
              "      </button>\n",
              "      \n",
              "  <style>\n",
              "    .colab-df-container {\n",
              "      display:flex;\n",
              "      flex-wrap:wrap;\n",
              "      gap: 12px;\n",
              "    }\n",
              "\n",
              "    .colab-df-convert {\n",
              "      background-color: #E8F0FE;\n",
              "      border: none;\n",
              "      border-radius: 50%;\n",
              "      cursor: pointer;\n",
              "      display: none;\n",
              "      fill: #1967D2;\n",
              "      height: 32px;\n",
              "      padding: 0 0 0 0;\n",
              "      width: 32px;\n",
              "    }\n",
              "\n",
              "    .colab-df-convert:hover {\n",
              "      background-color: #E2EBFA;\n",
              "      box-shadow: 0px 1px 2px rgba(60, 64, 67, 0.3), 0px 1px 3px 1px rgba(60, 64, 67, 0.15);\n",
              "      fill: #174EA6;\n",
              "    }\n",
              "\n",
              "    [theme=dark] .colab-df-convert {\n",
              "      background-color: #3B4455;\n",
              "      fill: #D2E3FC;\n",
              "    }\n",
              "\n",
              "    [theme=dark] .colab-df-convert:hover {\n",
              "      background-color: #434B5C;\n",
              "      box-shadow: 0px 1px 3px 1px rgba(0, 0, 0, 0.15);\n",
              "      filter: drop-shadow(0px 1px 2px rgba(0, 0, 0, 0.3));\n",
              "      fill: #FFFFFF;\n",
              "    }\n",
              "  </style>\n",
              "\n",
              "      <script>\n",
              "        const buttonEl =\n",
              "          document.querySelector('#df-1c3768e0-3724-411f-ba76-a17286da5323 button.colab-df-convert');\n",
              "        buttonEl.style.display =\n",
              "          google.colab.kernel.accessAllowed ? 'block' : 'none';\n",
              "\n",
              "        async function convertToInteractive(key) {\n",
              "          const element = document.querySelector('#df-1c3768e0-3724-411f-ba76-a17286da5323');\n",
              "          const dataTable =\n",
              "            await google.colab.kernel.invokeFunction('convertToInteractive',\n",
              "                                                     [key], {});\n",
              "          if (!dataTable) return;\n",
              "\n",
              "          const docLinkHtml = 'Like what you see? Visit the ' +\n",
              "            '<a target=\"_blank\" href=https://colab.research.google.com/notebooks/data_table.ipynb>data table notebook</a>'\n",
              "            + ' to learn more about interactive tables.';\n",
              "          element.innerHTML = '';\n",
              "          dataTable['output_type'] = 'display_data';\n",
              "          await google.colab.output.renderOutput(dataTable, element);\n",
              "          const docLink = document.createElement('div');\n",
              "          docLink.innerHTML = docLinkHtml;\n",
              "          element.appendChild(docLink);\n",
              "        }\n",
              "      </script>\n",
              "    </div>\n",
              "  </div>\n",
              "  "
            ],
            "text/plain": [
              "Empty DataFrame\n",
              "Columns: [duration_ms, popularity, explicit, release_date, danceability, energy, loudness, speechiness, acousticness, instrumentalness, liveness, valence, tempo, id, key]\n",
              "Index: []\n",
              "\n",
              "[0 rows x 15 columns]"
            ]
          },
          "execution_count": 15,
          "metadata": {},
          "output_type": "execute_result"
        }
      ],
      "source": [
        "tracks[tracks['id'] == '0Mn3amMRMoabaoTf1Publ4']"
      ]
    },
    {
      "cell_type": "code",
      "execution_count": 31,
      "metadata": {
        "id": "abat21C87Gxp"
      },
      "outputs": [],
      "source": [
        "class MusicDataset(data.Dataset):\n",
        "    def __init__(self, users, tracks, sessions):\n",
        "        self.users = users\n",
        "        self.lusers = len(users)\n",
        "        self.tracks = tracks\n",
        "        self.ltracks = len(tracks)\n",
        "        self.sessions = sessions\n",
        "        self.z = min(self.lusers, self.ltracks)\n",
        "\n",
        "    def __len__(self):\n",
        "        return self.ltracks * self.lusers\n",
        "\n",
        "    def __getitem__(self, idx):\n",
        "        u = users.loc[idx // self.z]\n",
        "        t = tracks.loc[idx % self.z]\n",
        "        select = sessions[u['user_id'] == sessions['user_id']]\n",
        "        select = select[t['id'] == select['track_id']]\n",
        "        play = bool(sum(select['event_type'] == 'play'))\n",
        "        like = bool(sum(select['event_type'] == 'like'))\n",
        "        ug = u['favourite_genres']\n",
        "        ug = torch.Tensor(np.array([i in ug for i in GENRES]) * 1)\n",
        "        ur = torch.Tensor([u['premium_user'] * 1])\n",
        "        tk = torch.Tensor([int(i == t['key']) for i in range(16)])\n",
        "        tr = torch.Tensor(t.drop(labels=['id', 'key']).to_numpy().astype(np.float64))\n",
        "\n",
        "        return [[ug, ur], [tk, tr]], [play, like]"
      ]
    },
    {
      "cell_type": "code",
      "execution_count": 17,
      "metadata": {
        "id": "OrXRIAn97Gxq"
      },
      "outputs": [],
      "source": [
        "class Music_classifier(nn.Module):\n",
        "    def __init__(self, genres):\n",
        "        self.genres = genres\n",
        "        #    |\n",
        "        # 50 | Genres | 10    }\n",
        "        #    |                } USER [11]\n",
        "        # czy_premium | 1     }\n",
        "    \n",
        "        #    |\n",
        "        # 16 | key    | 3     }\n",
        "        #    |                } TRACK [16]\n",
        "        # numeric     | 12    }\n",
        "        # binary      | 1     }\n",
        "    \n",
        "        # TRACK [16] |        }\n",
        "        # TRACK [16] |   | 10 } FINGERPRINT [10]\n",
        "        # TRACK [16] |        }\n",
        "        track_key_code = 3\n",
        "        user_genre_code = 10\n",
        "        fingerprint_params = 15\n",
        "        super(Music_classifier, self).__init__()\n",
        "        ##### USER PREP ######\n",
        "        self.emb_user_genre = nn.Linear(len(genres), user_genre_code)\n",
        "        self.emb_user_genre_act = nn.LeakyReLU()\n",
        "\n",
        "        ##### TRACK PREP #####\n",
        "        self.emb_track_key = nn.Linear(16, track_key_code)\n",
        "        self.emb_track_key_act = nn.LeakyReLU()\n",
        "\n",
        "        ##### FINGERPRINT PREP #####\n",
        "        # self.emb_fingerprint = nn.Linear(3 * (track_key_code + 12 + 1), fingerprint_params)\n",
        "        # self.emb_fingerprint_act = nn.LeakyReLU()\n",
        "        # self.emb_fingerprint_track1 = nn.Linear(16, track_key_code)\n",
        "        # self.emb_fingerprint_track1_act = nn.LeakyReLU()\n",
        "        # self.emb_fingerprint_track2 = nn.Linear(16, track_key_code)\n",
        "        # self.emb_fingerprint_track2_act = nn.LeakyReLU()\n",
        "        # self.emb_fingerprint_track3 = nn.Linear(16, track_key_code)\n",
        "        # self.emb_fingerprint_track3_act = nn.LeakyReLU()\n",
        "\n",
        "        #### MAIN CLASSIFIER ####\n",
        "        user_params = user_genre_code + 1\n",
        "        track_params = track_key_code + 12 + 1\n",
        "\n",
        "        self.layers = nn.Sequential(\n",
        "            # nn.Linear(user_params + track_params + fingerprint_params, 256),\n",
        "            nn.Linear(user_params + track_params, 128),\n",
        "            nn.LeakyReLU(),\n",
        "\n",
        "            nn.BatchNorm1d(128),\n",
        "            nn.Linear(128, 64),\n",
        "            nn.Dropout(0.1),\n",
        "            nn.LeakyReLU(),\n",
        "\n",
        "            nn.Linear(64, 32),\n",
        "            nn.ReLU(),\n",
        "            #nn.Linear(32, 3),\n",
        "            nn.Linear(32, 2),\n",
        "\n",
        "            nn.Sigmoid()\n",
        "        )\n",
        "    #def forward(self, user, track, finger):\n",
        "    def forward(self, x):\n",
        "        # user -> [Tensor(50, bs), Tensor(1, bs)]\n",
        "        # track -> [Tensor(16, bs), Tensor(13, bs)]\n",
        "        # finger -> [ [Tensor(16, bs), Tensor(13, bs)], [Tensor(16, bs), Tensor(13, bs)], [Tensor(16, bs), Tensor(13, bs)] ]\n",
        "        user, track = x\n",
        "\n",
        "        comp_emb_user_genre = self.emb_user_genre(user[0])\n",
        "        comp_emb_user_genre = self.emb_user_genre_act(comp_emb_user_genre)\n",
        "\n",
        "        comp_emb_track_key = self.emb_track_key(track[0])\n",
        "        comp_emb_track_key = self.emb_track_key_act(comp_emb_track_key)\n",
        "\n",
        "        # comp_emb_fingerprint_track1 = self.emb_fingerprint_track1(finger[0][0])\n",
        "        # comp_emb_fingerprint_track1 = self.emb_fingerprint_track1_act(comp_emb_fingerprint_track1)\n",
        "        # comp_emb_fingerprint_track2 = self.emb_fingerprint_track2(finger[1][0])\n",
        "        # comp_emb_fingerprint_track2 = self.emb_fingerprint_track2_act(comp_emb_fingerprint_track2)\n",
        "        # comp_emb_fingerprint_track3 = self.emb_fingerprint_track3(finger[2][0])\n",
        "        # comp_emb_fingerprint_track3 = self.emb_fingerprint_track3_act(comp_emb_fingerprint_track3)\n",
        "        # emb_finger_x = torch.cat([comp_emb_fingerprint_track1, finger[0][1], \n",
        "        #                           comp_emb_fingerprint_track2, finger[1][1], \n",
        "        #                           comp_emb_fingerprint_track3, finger[2][1]], dim=1)\n",
        "        # comp_emb_fingerprint = self.emb_fingerprint(emb_finger_x)\n",
        "        # comp_emb_fingerprint = self.emb_fingerprint_act(comp_emb_fingerprint)\n",
        "\n",
        "        # x = torch.cat([comp_emb_user_genre, user[1], comp_emb_track_key, track[1], comp_emb_fingerprint])\n",
        "        # print(comp_emb_user_genre.shape, user[1].shape, comp_emb_track_key.shape, track[1].shape)\n",
        "        c = torch.cat([comp_emb_user_genre, user[1], comp_emb_track_key, track[1]], 1)\n",
        "        \n",
        "        return self.layers(c)\n"
      ]
    },
    {
      "attachments": {},
      "cell_type": "markdown",
      "metadata": {
        "id": "doxkXQr-7Gxs"
      },
      "source": [
        "## Training"
      ]
    },
    {
      "cell_type": "code",
      "execution_count": 51,
      "metadata": {
        "id": "L39PU6yS7Gxt"
      },
      "outputs": [],
      "source": [
        "def accuracy(loader, model, device):\n",
        "    with torch.no_grad():\n",
        "        good_like = 0\n",
        "        good_play = 0\n",
        "        all = 0\n",
        "        for x, y in loader:\n",
        "            x = [ [ x[0][0].to(device), x[0][1].to(device) ], [ x[1][0].to(device), x[1][1].to(device) ] ]\n",
        "            y = [ y[0].to(device), y[1].to(device) ]  \n",
        "            preds = model(x)\n",
        "            preds = preds.to(device)\n",
        "            good_play = sum([a == b for a, b in zip(np.round(preds.cpu().detach().numpy(), 0).T[0], y[0])])\n",
        "            good_like = sum([a == b for a, b in zip(np.round(preds.cpu().detach().numpy(), 0).T[1], y[1])])\n",
        "            all = len(preds)\n",
        "        print(f\"Accuracy of playing: {good_play * 100/all:.3}%\\nAccuracy of liking: {good_like * 100/all:.3}%\\n\")\n",
        "           "
      ]
    },
    {
      "cell_type": "code",
      "execution_count": 103,
      "metadata": {
        "id": "wIZ7TNcX7Gxt"
      },
      "outputs": [],
      "source": [
        "dataset = MusicDataset(users, tracks, sessions)\n",
        "train, test = data.random_split(dataset, [round(len(dataset) * 0.7), round(len(dataset) * 0.3)])"
      ]
    },
    {
      "cell_type": "code",
      "execution_count": 104,
      "metadata": {
        "id": "qx4eEGVU7Gxu"
      },
      "outputs": [],
      "source": [
        "train_dataloader = data.DataLoader(train, batch_size=64, shuffle=True, drop_last=True)\n",
        "test_dataloader = data.DataLoader(test, batch_size=64, shuffle=False, drop_last=False)"
      ]
    },
    {
      "cell_type": "code",
      "execution_count": 44,
      "metadata": {
        "id": "ZDAHp6i97Gxv"
      },
      "outputs": [],
      "source": [
        "model = Music_classifier(GENRES)\n",
        "optimizer = torch.optim.Adam(model.parameters(), lr=0.001)\n",
        "loss_module = nn.CrossEntropyLoss()"
      ]
    },
    {
      "cell_type": "code",
      "execution_count": 45,
      "metadata": {
        "colab": {
          "base_uri": "https://localhost:8080/"
        },
        "id": "IM0_sYN5LYvX",
        "outputId": "eaec7450-925f-4f7b-aeef-7dff710fabf3"
      },
      "outputs": [
        {
          "data": {
            "text/plain": [
              "Music_classifier(\n",
              "  (emb_user_genre): Linear(in_features=50, out_features=10, bias=True)\n",
              "  (emb_user_genre_act): LeakyReLU(negative_slope=0.01)\n",
              "  (emb_track_key): Linear(in_features=16, out_features=3, bias=True)\n",
              "  (emb_track_key_act): LeakyReLU(negative_slope=0.01)\n",
              "  (layers): Sequential(\n",
              "    (0): Linear(in_features=27, out_features=128, bias=True)\n",
              "    (1): LeakyReLU(negative_slope=0.01)\n",
              "    (2): BatchNorm1d(128, eps=1e-05, momentum=0.1, affine=True, track_running_stats=True)\n",
              "    (3): Linear(in_features=128, out_features=64, bias=True)\n",
              "    (4): Dropout(p=0.1, inplace=False)\n",
              "    (5): LeakyReLU(negative_slope=0.01)\n",
              "    (6): Linear(in_features=64, out_features=32, bias=True)\n",
              "    (7): ReLU()\n",
              "    (8): Linear(in_features=32, out_features=2, bias=True)\n",
              "    (9): Sigmoid()\n",
              "  )\n",
              ")"
            ]
          },
          "execution_count": 45,
          "metadata": {},
          "output_type": "execute_result"
        }
      ],
      "source": [
        "model.to(device)"
      ]
    },
    {
      "cell_type": "code",
      "execution_count": null,
      "metadata": {
        "colab": {
          "base_uri": "https://localhost:8080/"
        },
        "id": "oEXpClLu7Gxv",
        "outputId": "014a1d5b-fcbd-4dc4-91cc-5bb6a69f89d2"
      },
      "outputs": [
        {
          "name": "stdout",
          "output_type": "stream",
          "text": [
            "Epoch: 0, loss: 0.0418\n",
            "Epoch: 1, loss: 0.027\n",
            "Accuracy of playing: 12.5%\n",
            "Accuracy of liking: 92.2%\n",
            "\n"
          ]
        }
      ],
      "source": [
        "EPOCHS = 10\n",
        "model.train()\n",
        "for epoch in range(EPOCHS):\n",
        "    for x, y in train_dataloader:\n",
        "        x = [ [ x[0][0].to(device), x[0][1].to(device) ], [ x[1][0].to(device), x[1][1].to(device) ] ]\n",
        "        y = [ y[0].to(device), y[1].to(device) ]  \n",
        "        preds = model(x)\n",
        "        loss = loss_module(preds, torch.cat([y[0].unsqueeze(1), y[1].unsqueeze(1)], 1).float())\n",
        "        optimizer.zero_grad()\n",
        "        loss.backward()\n",
        "        optimizer.step()\n",
        "    print(f'Epoch: {epoch}, loss: {loss.sum().item():.3}')\n",
        "    if(epoch % 5):\n",
        "        accuracy(train_dataloader, model, device)\n"
      ]
    },
    {
      "cell_type": "code",
      "execution_count": 52,
      "metadata": {
        "colab": {
          "base_uri": "https://localhost:8080/"
        },
        "id": "yG7XeWrsMyP1",
        "outputId": "47a12ada-49b4-42b3-f069-0c067d81ad03"
      },
      "outputs": [
        {
          "name": "stdout",
          "output_type": "stream",
          "text": [
            "Accuracy of playing: 1.56%\n",
            "Accuracy of liking: 54.7%\n",
            "\n"
          ]
        }
      ],
      "source": [
        "accuracy(train_dataloader, model, device)"
      ]
    },
    {
      "cell_type": "code",
      "execution_count": 58,
      "metadata": {
        "colab": {
          "base_uri": "https://localhost:8080/"
        },
        "id": "5-sZ7qiLQ28p",
        "outputId": "ff1aba79-f717-4231-f4a7-f3f35d6c0a27"
      },
      "outputs": [
        {
          "name": "stdout",
          "output_type": "stream",
          "text": [
            "Accuracy of playing: 1e+02%\n",
            "Accuracy of liking: 1e+02%\n",
            "\n"
          ]
        }
      ],
      "source": [
        "accuracy(train_dataloader, lambda x: torch.zeros(64, 2), device)"
      ]
    },
    {
      "attachments": {},
      "cell_type": "markdown",
      "metadata": {},
      "source": [
        "## Saving"
      ]
    },
    {
      "cell_type": "code",
      "execution_count": 106,
      "metadata": {
        "id": "6KNS4khkZ8Dc"
      },
      "outputs": [],
      "source": [
        "torch.save(model.state_dict(), '/content/drive/MyDrive/Yoga/studia/semestr6/classifier.model')"
      ]
    },
    {
      "cell_type": "code",
      "execution_count": null,
      "metadata": {},
      "outputs": [],
      "source": [
        "import joblib\n",
        "joblib.dump(tracks_scaler, \"classifier_track.scaler\")"
      ]
    }
  ],
  "metadata": {
    "accelerator": "GPU",
    "colab": {
      "gpuType": "T4",
      "provenance": []
    },
    "gpuClass": "standard",
    "kernelspec": {
      "display_name": "Python 3",
      "language": "python",
      "name": "python3"
    },
    "language_info": {
      "codemirror_mode": {
        "name": "ipython",
        "version": 3
      },
      "file_extension": ".py",
      "mimetype": "text/x-python",
      "name": "python",
      "nbconvert_exporter": "python",
      "pygments_lexer": "ipython3",
      "version": "3.8.5"
    },
    "orig_nbformat": 4
  },
  "nbformat": 4,
  "nbformat_minor": 0
}
